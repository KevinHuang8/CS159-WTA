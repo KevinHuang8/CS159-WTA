{
 "cells": [
  {
   "cell_type": "code",
   "execution_count": 1,
   "metadata": {
    "colab": {},
    "colab_type": "code",
    "id": "iKFM3HVilaMB"
   },
   "outputs": [],
   "source": [
    "import gym\n",
    "import numpy as np\n",
    "import math\n",
    "import random\n",
    "import matplotlib\n",
    "import matplotlib.pyplot as plt\n",
    "from collections import namedtuple\n",
    "from itertools import count\n",
    "\n",
    "import torch \n",
    "import torch.nn as nn\n",
    "import torch.optim as optim\n",
    "import torch.nn.functional as F\n",
    "import torchvision.transforms as T\n",
    "\n",
    "# set up matplotlib\n",
    "is_ipython = 'inline' in matplotlib.get_backend()\n",
    "if is_ipython:\n",
    "    from IPython import display\n",
    "\n",
    "plt.ion()\n",
    "device = torch.device(\"cuda\" if torch.cuda.is_available() else \"cpu\")"
   ]
  },
  {
   "cell_type": "code",
   "execution_count": 2,
   "metadata": {
    "colab": {},
    "colab_type": "code",
    "id": "FFdaczjmlcEK"
   },
   "outputs": [],
   "source": [
    "from gym import error, spaces, utils\n",
    "from gym.utils import seeding\n",
    "\n",
    "# Create a custom environment \n",
    "class WTAEnv(gym.Env):\n",
    "    metadata = {'render.modes': ['console']}\n",
    "\n",
    "    def __init__(self, assignment, target_values, prob, device):\n",
    "        ''' \n",
    "        Assignment - 1D array that maps weapons to assigned target\n",
    "        target_values - 1D array that maps targets to their value when destroyed\n",
    "        prob - m x n array where prob[i, j] = probability of weapon i killing target j\n",
    "        ''' \n",
    "        super(WTAEnv, self).__init__()\n",
    "        \n",
    "        self.n = len(target_values)\n",
    "        self.m = len(assignment)\n",
    "\n",
    "        self.start_assignment = assignment\n",
    "        self.assignment = assignment\n",
    "        \n",
    "        # one hot encoded version of assignment, for quick reward computation\n",
    "        self.assignment_onehot = self.get_onehot_assignments()\n",
    "        \n",
    "        self.target_values = target_values \n",
    "        self.prob = prob\n",
    "        # q = probability array of survival\n",
    "        self.q = 1 - self.prob\n",
    "        \n",
    "        # Current expected value of the assignment\n",
    "        self.value = self.assignment_value()\n",
    "        \n",
    "        # The action space - a number 0 <= i < m * n, where\n",
    "        # (weapon = i // n, target = i % n)\n",
    "        # Assigns weapon to target (one target per weapon)\n",
    "        self.action_space = spaces.MultiDiscrete([self.m * self.n])\n",
    "        \n",
    "        self.device = device\n",
    "        \n",
    "    def decode_action(self, action):\n",
    "        '''\n",
    "        Given an action, return the weapon and target associated with\n",
    "        that action.\n",
    "        '''\n",
    "        return action // self.n, action % self.n\n",
    "        \n",
    "    def get_onehot_assignments(self):\n",
    "        '''\n",
    "        Get a one-hot encoded representation of the assignments.\n",
    "        This is used only because this representation is convenient and\n",
    "        fast for computing the assignment value, since we can use\n",
    "        vectorization and not use for loops. Not sure how much this\n",
    "        actually helps though.\n",
    "        '''\n",
    "        onehot = np.zeros((self.m, self.n))\n",
    "        onehot[np.arange(onehot.shape[0]), self.assignment] = 1\n",
    "        return onehot\n",
    " \n",
    "    def assignment_value(self):\n",
    "        '''\n",
    "        Compute the expected value of our assignment.\n",
    "        E = Sum over targets i [P(target i killed) * Value(i)]\n",
    "        where P(target i killed) = 1 - P(i survives)\n",
    "        where P(i surves) = 1 - Product over weapons j [P(i survives j) = q[i, j]]\n",
    "        '''\n",
    "        pkill = 1 - np.prod(self.q ** self.assignment_onehot, axis=0)\n",
    "        expected_value = np.dot(pkill, self.target_values)\n",
    "        return expected_value\n",
    "        \n",
    "    def step(self, action):\n",
    "        '''Perform action on the current state'''\n",
    "        weapon, target = self.decode_action(action[0])\n",
    "        if weapon < 0 or weapon >= self.m or target < 0 or target >= self.n:\n",
    "            raise ValueError(\"Received invalid action={} which is not part of the action space\".format(action))\n",
    "        # Update assignments\n",
    "        old_target = self.assignment[weapon]\n",
    "        self.assignment[weapon] = target\n",
    "        self.assignment_onehot[weapon, old_target] = 0\n",
    "        self.assignment_onehot[weapon, target] = 1\n",
    "\n",
    "        # Reward is change in assignment value\n",
    "        new_value = self.assignment_value()\n",
    "        reward = new_value - self.value\n",
    "        self.value = new_value\n",
    "\n",
    "        # There is no stopping condition other than the max number of iterations\n",
    "        done = False\n",
    "\n",
    "        return (self.get_state(), reward, done, {})\n",
    "\n",
    "    def get_state(self):\n",
    "        '''\n",
    "        Our state is a size m + n array.\n",
    "        state[:m] is self.assignments\n",
    "        state[m:] is self.target_values\n",
    "        '''\n",
    "        state = np.concatenate([self.assignment, self.target_values])\n",
    "        return torch.tensor(state, device=self.device)\n",
    "\n",
    "    def reset(self):\n",
    "        '''\n",
    "        Important: the observation must be a numpy array\n",
    "        :return: (np.array) \n",
    "        '''\n",
    "        self.assignment = self.start_assignment\n",
    "        self.assignment_onehot = self.get_onehot_assignments()\n",
    "        return self.get_state()\n",
    "\n",
    "    def render(self, mode='human', close=False):\n",
    "        pass"
   ]
  },
  {
   "cell_type": "code",
   "execution_count": 3,
   "metadata": {
    "colab": {},
    "colab_type": "code",
    "id": "wG4OUdZ2lfat"
   },
   "outputs": [],
   "source": [
    "Transition = namedtuple('Transition',\n",
    "                        ('state', 'action', 'next_state', 'reward'))\n",
    "\n",
    "class ReplayMemory(object):\n",
    "    def __init__(self, capacity):\n",
    "        self.capacity = capacity\n",
    "        self.memory = []\n",
    "        self.position = 0\n",
    "\n",
    "    def push(self, *args):\n",
    "        \"\"\"Saves a transition.\"\"\"\n",
    "        if len(self.memory) < self.capacity:\n",
    "            self.memory.append(None)\n",
    "        self.memory[self.position] = Transition(*args)\n",
    "        self.position = (self.position + 1) % self.capacity\n",
    "\n",
    "    def sample(self, batch_size):\n",
    "        return random.sample(self.memory, batch_size)\n",
    "\n",
    "    def __len__(self):\n",
    "        return len(self.memory)"
   ]
  },
  {
   "cell_type": "code",
   "execution_count": 4,
   "metadata": {
    "colab": {},
    "colab_type": "code",
    "id": "V3QTy1Eqlndm"
   },
   "outputs": [],
   "source": [
    "def generate_initial_assignment(n, m):\n",
    "    '''   \n",
    "    Randomly assign weapons to targets\n",
    "    ''' \n",
    "    assignment = np.random.randint(n, size=m)\n",
    "    return assignment"
   ]
  },
  {
   "cell_type": "code",
   "execution_count": 5,
   "metadata": {
    "colab": {},
    "colab_type": "code",
    "id": "brm37nR4lptv"
   },
   "outputs": [],
   "source": [
    "steps_done = 0\n",
    "\n",
    "def is_possible(state, weapon, target):\n",
    "    '''\n",
    "    We don't want to assign a weapon to the target if it is already assigned\n",
    "    to the target, since this does not change the state at all.\n",
    "    '''\n",
    "    curr_target = state[weapon].item()\n",
    "    return curr_target != target \n",
    "\n",
    "def select_action(state):\n",
    "    global steps_done\n",
    "    sample = random.random()\n",
    "    eps_threshold = EPS_END + (EPS_START - EPS_END) * \\\n",
    "        math.exp(-1. * steps_done / EPS_DECAY)\n",
    "    steps_done += 1\n",
    "    if sample > eps_threshold:\n",
    "        ## Exploit\n",
    "        with torch.no_grad():\n",
    "            policy_net.eval()\n",
    "            state_batch = torch.unsqueeze(state, 1).transpose(0, 1).float()\n",
    "            largest = torch.sort(policy_net(state_batch), descending=True, dim=1)[1]\n",
    "            policy_net.train()\n",
    "            \n",
    "            # Try until we get a valid action\n",
    "            for i in largest[0]:\n",
    "                weapon = i / n\n",
    "                target = i % n\n",
    "                \n",
    "                if is_possible(state, weapon.item(), target.item()):\n",
    "                    return torch.tensor([i], device=device)\n",
    "                \n",
    "            # This should never happen\n",
    "            raise ValueError('Invalid state: no possible action')\n",
    "    else:\n",
    "        ## Explore\n",
    "        weapon = np.random.randint(m)\n",
    "        curr_target = state[weapon].item()\n",
    "        target = np.random.randint(n)\n",
    "        while target == curr_target:\n",
    "            target = np.random.randint(n)\n",
    "        \n",
    "        action = weapon * n + target\n",
    "        return torch.tensor([action], device=device, dtype=torch.long)\n",
    "\n",
    "episode_durations = []\n",
    "\n",
    "def plot_durations():\n",
    "    plt.figure(2)\n",
    "    plt.clf()\n",
    "    durations_t = torch.tensor(episode_durations, dtype=torch.float)\n",
    "    plt.title('Training...')\n",
    "    plt.xlabel('Episode')\n",
    "    plt.ylabel('Duration')\n",
    "    plt.plot(durations_t.numpy())\n",
    "    # Take 100 episode averages and plot them too\n",
    "    if len(durations_t) >= 100:\n",
    "        means = durations_t.unfold(0, 100, 1).mean(1).view(-1)\n",
    "        means = torch.cat((torch.zeros(99), means))\n",
    "        plt.plot(means.numpy())\n",
    "\n",
    "    plt.pause(0.001)  # pause a bit so that plots are updated\n",
    "    if is_ipython:\n",
    "        display.clear_output(wait=True)\n",
    "        display.display(plt.gcf())"
   ]
  },
  {
   "cell_type": "code",
   "execution_count": 75,
   "metadata": {
    "colab": {},
    "colab_type": "code",
    "id": "dXAtvLthltku"
   },
   "outputs": [],
   "source": [
    "def optimize_model():\n",
    "    if len(memory) < BATCH_SIZE:\n",
    "        return\n",
    "    transitions = memory.sample(BATCH_SIZE)\n",
    "        \n",
    "    # Transpose the batch (see https://stackoverflow.com/a/19343/3343043 for\n",
    "    # detailed explanation). This converts batch-array of Transitions\n",
    "    # to Transition of batch-arrays.\n",
    "    batch = Transition(*zip(*transitions))\n",
    "\n",
    "    # Compute a mask of non-final states and concatenate the batch elements\n",
    "    # (a final state would've been the one after which simulation ended)\n",
    "    non_final_mask = torch.tensor(tuple(map(lambda s: s is not None,\n",
    "                                          batch.next_state)), device=device, dtype=torch.bool)\n",
    "    non_final_next_states = torch.stack([s for s in batch.next_state\n",
    "                                                if s is not None])\n",
    "        \n",
    "    state_batch = torch.stack(batch.state)\n",
    "    action_batch = torch.stack(batch.action)\n",
    "    reward_batch = torch.cat(batch.reward)\n",
    "\n",
    "    # Compute Q(s_t, a) - the model computes Q(s_t), then we select the\n",
    "    # columns of actions taken. These are the actions which would've been taken\n",
    "    # for each batch state according to policy_net\n",
    "    state_action_values = policy_net(state_batch).gather(1, action_batch)\n",
    "\n",
    "    # Compute V(s_{t+1}) for all next states.\n",
    "    # Expected values of actions for non_final_next_states are computed based\n",
    "    # on the \"older\" target_net; selecting their best reward with max(1)[0].\n",
    "    # This is merged based on the mask, such that we'll have either the expected\n",
    "    # state value or 0 in case the state was final.\n",
    "    next_state_values = torch.zeros(BATCH_SIZE, device=device)\n",
    "    next_state_values[non_final_mask] = target_net(non_final_next_states).max(1)[0].detach()\n",
    "#     print(next_state_values[non_final_mask].shape)\n",
    "    # Compute the expected Q values\n",
    "    expected_state_action_values = (next_state_values * GAMMA) + reward_batch\n",
    "\n",
    "    # Compute Huber loss\n",
    "    loss = F.smooth_l1_loss(state_action_values.double(), expected_state_action_values.unsqueeze(1).double())\n",
    "    value_loss = loss.item()\n",
    "    # Optimize the model\n",
    "    optimizer.zero_grad()\n",
    "    loss.backward()\n",
    "    for param in policy_net.parameters():\n",
    "        param.grad.data.clamp_(-1, 1)\n",
    "    optimizer.step()\n",
    "    \n",
    "    return value_loss"
   ]
  },
  {
   "cell_type": "code",
   "execution_count": 76,
   "metadata": {
    "colab": {},
    "colab_type": "code",
    "id": "RujMbIuTlmZK"
   },
   "outputs": [],
   "source": [
    "'''Take in n by m matrix, convert it to 1D feature vector '''\n",
    "class DQN(nn.Module):\n",
    "    def __init__(self, n, m, embedding_size=8):\n",
    "        super(DQN, self).__init__()\n",
    "        # The assignment becomes embedded, so it has size m * embedding_size\n",
    "        # when flattened\n",
    "        # The n comes from the values attached\n",
    "        self.assignment_size = m * embedding_size\n",
    "        self.input_size = self.assignment_size + n\n",
    "        self.output_size = m * n\n",
    "        self.n = n\n",
    "        self.m = m\n",
    "        \n",
    "        units = 50\n",
    "\n",
    "        self.embedding_size = embedding_size\n",
    "        # Embed the targets, since the actual numerical value of the\n",
    "        # targets don't mean anything\n",
    "        # Another idea: skip the middleman and replace the targets\n",
    "        # with the target values\n",
    "        self.embedding = nn.Embedding(n, self.embedding_size)\n",
    "        self.lin1 = nn.Linear(self.input_size, units)\n",
    "        self.drop1 = nn.Dropout(0.2)\n",
    "        self.lin2 = nn.Linear(units, self.output_size)\n",
    "        self.drop2 = nn.Dropout(0.2)\n",
    "\n",
    "    # Called with either one element to determine next action, or a batch\n",
    "    # during optimization. Returns tensor([[left0exp,right0exp]...]).\n",
    "    def forward(self, state):\n",
    "        assignment = state[:, :self.m].long()\n",
    "        assignment = self.embedding(assignment)\n",
    "        \n",
    "        values = state[:, self.m:].float()\n",
    "                \n",
    "        # Flatten the assignment embedding\n",
    "        assignment = assignment.view(-1, self.assignment_size).float() \n",
    "        \n",
    "        # and concatenate the values\n",
    "        x = torch.cat([assignment, values], dim=1)\n",
    "        \n",
    "        x = F.relu(self.drop1(self.lin1(x)))\n",
    "        x = F.relu(self.lin2(x))\n",
    "        return x"
   ]
  },
  {
   "cell_type": "code",
   "execution_count": 101,
   "metadata": {},
   "outputs": [],
   "source": [
    "BATCH_SIZE = 128\n",
    "GAMMA = 0.999\n",
    "EPS_START = 0.9\n",
    "EPS_END = 0.05\n",
    "EPS_DECAY = 200\n",
    "TARGET_UPDATE = 50\n",
    "MAX_ITERATIONS = 500\n",
    "\n",
    "# n - number of targets\n",
    "n = 4\n",
    "# m - number of weapons\n",
    "m = 5\n",
    "assert n > 1\n",
    "\n",
    "lower_val = 25\n",
    "upper_val = 50\n",
    "lower_prob = 0.6\n",
    "upper_prob = 0.9\n",
    "values = np.random.uniform(lower_val, upper_val, n)\n",
    "prob = np.random.uniform(lower_prob, upper_prob, (m, n))\n",
    "assignment = generate_initial_assignment(n, m)\n",
    "env = WTAEnv(assignment, values, prob, device)\n",
    "\n",
    "policy_net = DQN(n, m, n // 2).to(device)\n",
    "target_net = DQN(n, m, n // 2).to(device)\n",
    "target_net.load_state_dict(policy_net.state_dict())\n",
    "target_net.eval()\n",
    "\n",
    "optimizer = optim.RMSprop(policy_net.parameters())\n",
    "memory = ReplayMemory(10000)"
   ]
  },
  {
   "cell_type": "code",
   "execution_count": 102,
   "metadata": {
    "colab": {
     "base_uri": "https://localhost:8080/",
     "height": 646
    },
    "colab_type": "code",
    "id": "bJQI_SFNl2h6",
    "outputId": "bd33e174-0765-4f58-87e8-472a5caaf45d"
   },
   "outputs": [
    {
     "name": "stdout",
     "output_type": "stream",
     "text": [
      "episode 0/15, iteration 499/500 loss: 2.0261524435764686\n",
      "episode 1/15, iteration 499/500 loss: 4.9050608593957575\n",
      "episode 2/15, iteration 499/500 loss: 4.3939150354779835loss: 4.528499014440507\n",
      "episode 3/15, iteration 499/500 loss: 4.1426145519815413loss: 3.774118627185442\n",
      "episode 4/15, iteration 499/500 loss: 3.4468548120016154 loss: 3.5652665707681415\n",
      "episode 5/15, iteration 499/500 loss: 3.3691515881484926\n",
      "episode 6/15, iteration 499/500 loss: 2.6290018776910175\n",
      "episode 7/15, iteration 499/500 loss: 2.5240078030234194\n",
      "episode 8/15, iteration 499/500 loss: 1.6320195614823816\n",
      "episode 9/15, iteration 499/500 loss: 2.4951575539090225\n",
      "episode 10/15, iteration 499/500 loss: 1.8746683249655045\n",
      "episode 11/15, iteration 499/500 loss: 1.3916716545846242oss: 1.920757652821843loss: 1.51725985710407\n",
      "episode 12/15, iteration 499/500 loss: 1.4885495817520358\n",
      "episode 13/15, iteration 499/500 loss: 1.1838817377868453\n",
      "episode 14/15, iteration 499/500 loss: 0.9955027656697102ss: 1.702412812951216loss: 1.3250830517447187\n",
      "\n",
      "Complete\n"
     ]
    }
   ],
   "source": [
    "num_episodes = 15\n",
    "env.reset()\n",
    "init_state = env.get_state() \n",
    "for i_episode in range(num_episodes):\n",
    "    # Initialize the environment and state\n",
    "    env.reset()\n",
    "    state = init_state\n",
    "    for t in range(MAX_ITERATIONS):\n",
    "        print(f'episode {i_episode}/{num_episodes}, iteration {t}/{MAX_ITERATIONS}', end=' ')\n",
    "        # Select and perform an action\n",
    "        action = select_action(state)\n",
    "        observation, reward, done, _ = env.step(action)\n",
    "        reward = torch.tensor([reward], device=device)\n",
    "\n",
    "        if not done:\n",
    "            next_state = observation\n",
    "        else:\n",
    "            next_state = None\n",
    "\n",
    "        # Store the transition in memory\n",
    "        memory.push(state, action, next_state, reward)\n",
    "\n",
    "        # Move to the next state\n",
    "        state = next_state\n",
    "\n",
    "        # Perform one step of the optimization (on the target network)\n",
    "        loss = optimize_model()\n",
    "        if done:\n",
    "            episode_durations.append(t + 1)\n",
    "            plot_durations()\n",
    "            break\n",
    "        \n",
    "        print(f'loss: {loss}', end='\\r')\n",
    "    print()\n",
    "    # Update the target network, copying all weights and biases in DQN\n",
    "    if i_episode % TARGET_UPDATE == 0:\n",
    "        target_net.load_state_dict(policy_net.state_dict())\n",
    "\n",
    "print()\n",
    "print('Complete')\n",
    "env.render()\n",
    "env.close()\n",
    "plt.ioff()\n",
    "plt.show()"
   ]
  },
  {
   "cell_type": "code",
   "execution_count": 145,
   "metadata": {},
   "outputs": [
    {
     "data": {
      "text/plain": [
       "DQN(\n",
       "  (embedding): Embedding(4, 2)\n",
       "  (lin1): Linear(in_features=14, out_features=50, bias=True)\n",
       "  (drop1): Dropout(p=0.2, inplace=False)\n",
       "  (lin2): Linear(in_features=50, out_features=20, bias=True)\n",
       "  (drop2): Dropout(p=0.2, inplace=False)\n",
       ")"
      ]
     },
     "execution_count": 145,
     "metadata": {},
     "output_type": "execute_result"
    }
   ],
   "source": [
    "policy_net.eval()"
   ]
  },
  {
   "cell_type": "code",
   "execution_count": 146,
   "metadata": {},
   "outputs": [],
   "source": [
    "assignment = generate_initial_assignment(n, m)"
   ]
  },
  {
   "cell_type": "code",
   "execution_count": 147,
   "metadata": {},
   "outputs": [],
   "source": [
    "test_env = WTAEnv(assignment, values, prob, device)"
   ]
  },
  {
   "cell_type": "code",
   "execution_count": 148,
   "metadata": {},
   "outputs": [
    {
     "data": {
      "text/plain": [
       "tensor([ 3.0000,  3.0000,  3.0000,  0.0000,  0.0000, 31.9710, 34.0953, 27.0945,\n",
       "        29.3957], device='cuda:0', dtype=torch.float64)"
      ]
     },
     "execution_count": 148,
     "metadata": {},
     "output_type": "execute_result"
    }
   ],
   "source": [
    "test_env.reset()"
   ]
  },
  {
   "cell_type": "code",
   "execution_count": 149,
   "metadata": {},
   "outputs": [
    {
     "data": {
      "text/plain": [
       "59.479090569076405"
      ]
     },
     "execution_count": 149,
     "metadata": {},
     "output_type": "execute_result"
    }
   ],
   "source": [
    "test_env.value"
   ]
  },
  {
   "cell_type": "code",
   "execution_count": 150,
   "metadata": {},
   "outputs": [
    {
     "name": "stdout",
     "output_type": "stream",
     "text": [
      "0 1\n"
     ]
    }
   ],
   "source": [
    "state = test_env.get_state().unsqueeze(1).transpose(0, 1)\n",
    "best_action = policy_net(state).max(1)[1]\n",
    "\n",
    "a = best_action.item()\n",
    "print(a // n, a % n)"
   ]
  },
  {
   "cell_type": "code",
   "execution_count": 151,
   "metadata": {},
   "outputs": [
    {
     "data": {
      "text/plain": [
       "(tensor([ 1.0000,  3.0000,  3.0000,  0.0000,  0.0000, 31.9710, 34.0953, 27.0945,\n",
       "         29.3957], device='cuda:0', dtype=torch.float64),\n",
       " 21.5414138235122,\n",
       " False,\n",
       " {})"
      ]
     },
     "execution_count": 151,
     "metadata": {},
     "output_type": "execute_result"
    }
   ],
   "source": [
    "test_env.step(best_action)"
   ]
  },
  {
   "cell_type": "code",
   "execution_count": 152,
   "metadata": {},
   "outputs": [
    {
     "data": {
      "text/plain": [
       "81.0205043925886"
      ]
     },
     "execution_count": 152,
     "metadata": {},
     "output_type": "execute_result"
    }
   ],
   "source": [
    "test_env.value"
   ]
  },
  {
   "cell_type": "code",
   "execution_count": 129,
   "metadata": {},
   "outputs": [
    {
     "data": {
      "text/plain": [
       "tensor([[ 0.0000, 37.2045,  0.0000,  0.0000],\n",
       "        [10.0700, 13.8417, 24.7925, 13.4367],\n",
       "        [ 0.0000, 28.7972, 22.6149, 24.7226],\n",
       "        [12.0092,  0.0000, 14.5318, 22.7798],\n",
       "        [33.5026,  0.0000,  0.0000,  8.3360]], device='cuda:0',\n",
       "       grad_fn=<ViewBackward>)"
      ]
     },
     "execution_count": 129,
     "metadata": {},
     "output_type": "execute_result"
    }
   ],
   "source": [
    "policy_net(state).reshape(5, 4)"
   ]
  },
  {
   "cell_type": "code",
   "execution_count": null,
   "metadata": {},
   "outputs": [],
   "source": []
  }
 ],
 "metadata": {
  "colab": {
   "collapsed_sections": [],
   "name": "CS159_Project.ipynb",
   "provenance": [],
   "toc_visible": true
  },
  "kernelspec": {
   "display_name": "Python 3",
   "language": "python",
   "name": "python3"
  },
  "language_info": {
   "codemirror_mode": {
    "name": "ipython",
    "version": 3
   },
   "file_extension": ".py",
   "mimetype": "text/x-python",
   "name": "python",
   "nbconvert_exporter": "python",
   "pygments_lexer": "ipython3",
   "version": "3.8.2"
  }
 },
 "nbformat": 4,
 "nbformat_minor": 4
}
