{
  "nbformat": 4,
  "nbformat_minor": 0,
  "metadata": {
    "colab": {
      "name": "DQN_1D_BuildUp.ipynb",
      "provenance": [],
      "collapsed_sections": [],
      "toc_visible": true,
      "include_colab_link": true
    },
    "kernelspec": {
      "name": "python3",
      "display_name": "Python 3"
    }
  },
  "cells": [
    {
      "cell_type": "markdown",
      "metadata": {
        "id": "view-in-github",
        "colab_type": "text"
      },
      "source": [
        "<a href=\"https://colab.research.google.com/github/KevinHuang8/CS159-WTA/blob/master/DQN_1D_BuildUp.ipynb\" target=\"_parent\"><img src=\"https://colab.research.google.com/assets/colab-badge.svg\" alt=\"Open In Colab\"/></a>"
      ]
    },
    {
      "cell_type": "code",
      "metadata": {
        "id": "Cv4kq613xbS6",
        "colab_type": "code",
        "colab": {}
      },
      "source": [
        "import gym\n",
        "import numpy as np\n",
        "import math\n",
        "import random\n",
        "%matplotlib inline\n",
        "import matplotlib\n",
        "import matplotlib.pyplot as plt\n",
        "from collections import namedtuple\n",
        "from itertools import count\n",
        "\n",
        "import torch\n",
        "import torch.nn as nn\n",
        "import torch.optim as optim\n",
        "import torch.nn.functional as F\n",
        "import torchvision.transforms as T\n",
        "\n",
        "# set up matplotlib\n",
        "is_ipython = 'inline' in matplotlib.get_backend()\n",
        "if is_ipython:\n",
        "    from IPython import display\n",
        "\n",
        "plt.ion()\n",
        "device = torch.device(\"cuda\" if torch.cuda.is_available() else \"cpu\")"
      ],
      "execution_count": 0,
      "outputs": []
    },
    {
      "cell_type": "code",
      "metadata": {
        "id": "TO6C199zuBMi",
        "colab_type": "code",
        "colab": {}
      },
      "source": [
        "from gym import error, spaces, utils\n",
        "from gym.utils import seeding\n",
        "\n",
        "# Create a custom environment \n",
        "class WTAEnv(gym.Env):\n",
        "    metadata = {'render.modes': ['console']}\n",
        "\n",
        "    def __init__(self, target_values, prob, device):\n",
        "        \"\"\"Assignment - m x n array that maps weapons to assigned target, where\n",
        "        the assigned target is one-hot encoded to differentiate between unassigned\n",
        "        weapons (row is all zero's) and assigned weapons (exactly one column \n",
        "        index of row is 1)\n",
        "\n",
        "        Input:\n",
        "        target_values - 1D array that maps targets to their value when destroyed\n",
        "        prob - m x n array where prob[i, j] = probability of weapon i killing target j\"\"\"\n",
        "        super(WTAEnv, self).__init__()\n",
        "\n",
        "        # Initialization\n",
        "        self.n = len(target_values)\n",
        "        self.m = len(prob)\n",
        "        self.assignment = self.generate_initial_assignment()\n",
        "        self.target_values = target_values \n",
        "        self.prob = prob\n",
        "        # q = probability array of survival\n",
        "        self.q = 1 - self.prob\n",
        "        self.value = self.assignment_value()\n",
        "\n",
        "        # Keep track of the assigned weapons. Index i is 1 if \n",
        "        # weapon i is already assigned, 0 if it is unassigned. Used in order\n",
        "        # to set probabilities of infeasible weapon-target assignments to 0\n",
        "        self.weapons_assigned = np.zeros(self.m)\n",
        "        \n",
        "        # The action space - a number 0 <= i < m * n, where\n",
        "        # (weapon = i // n, target = i % n)\n",
        "        # Assigns weapon to target (one target per weapon)\n",
        "        self.action_space = spaces.MultiDiscrete([self.m, self.n])\n",
        "        self.device = device\n",
        "\n",
        "    def generate_initial_assignment(self):\n",
        "        \"\"\"\n",
        "        Start with all weapons unassigned.\n",
        "        \"\"\"  \n",
        "        return np.zeros((self.m, self.n)).astype(np.int32)\n",
        "        \n",
        "    def decode_action(self, action):\n",
        "        \"\"\"\n",
        "        Interpret an action.\n",
        "\n",
        "        Input: an action.\n",
        "        \n",
        "        Output: the weapon and target associated with\n",
        "        that action.\n",
        "        \"\"\"\n",
        "        return action // self.n, action % self.n\n",
        "\n",
        "    def step(self, action):\n",
        "        \"\"\"\n",
        "        Pick a random action, update the remaining weapons, and return the reward.\n",
        "\n",
        "        Input: an action.\n",
        "\n",
        "        Output: reward (the expected value of the chosen weapon killing its target\n",
        "        multiplied by the value of the target)\n",
        "        \"\"\"\n",
        "        weapon, target = self.decode_action(action[0][0])\n",
        "        if not self.action_space.contains([weapon, target]):\n",
        "            raise ValueError(\"Received invalid action={} which is not part of the action space\".format(action))\n",
        "        \n",
        "        # Update the weapons remaining and the assignment\n",
        "        self.weapons_assigned[weapon] = 1\n",
        "        self.assignment[weapon][target] = 1\n",
        "\n",
        "        # Reward used to be multiplying the expected value of the chosen weapon\n",
        "        # killing  the chosen target times the value of the target. But this isn't\n",
        "        # consistent with the way the reward of an entire assignment is computed\n",
        "        # reward = self.prob[weapon][target] * self.target_values[target]\n",
        "\n",
        "        # Reward is change in assignment value\n",
        "        new_value = self.assignment_value()\n",
        "        reward = new_value - self.value\n",
        "        self.value = new_value\n",
        "\n",
        "        done = np.sum(self.weapons_assigned) == self.m\n",
        "        return (self.get_state(), reward, done, {})\n",
        "    \n",
        "    def assignment_value(self):\n",
        "        '''\n",
        "        Compute the expected value of our assignment.\n",
        "        E = Sum over targets i [P(target i killed) * Value(i)]\n",
        "        where P(target i killed) = 1 - P(i survives)\n",
        "        where P(i surves) = 1 - Product over weapons j [P(i survives j) = q[i, j]]\n",
        "        '''\n",
        "        pkill = 1 - np.prod(self.q ** self.assignment, axis=0)\n",
        "        expected_value = np.dot(pkill, self.target_values)\n",
        "        return expected_value\n",
        "\n",
        "    def get_state(self):\n",
        "        \"\"\"\n",
        "        First flatten the matrix of one-hot encoded assignment to get 1D vector\n",
        "        of length m * n. Then append the matrix of weapons_remaining\n",
        "        Our state is a size m * n + m + n array.\n",
        "        state[:m*n] is self.assignments\n",
        "        state[m*n:m*n+m] is the number of weapons left \n",
        "        state[m*n+m:] is self.target_values\n",
        "\n",
        "        Output: the state.\n",
        "        \"\"\"\n",
        "        flat_assign = self.assignment.flatten()\n",
        "        state = np.concatenate([flat_assign, self.weapons_assigned, self.target_values])\n",
        "        # Return state as a tensor and add a batch dimension\n",
        "        return torch.tensor(state, device=self.device).unsqueeze(0)\n",
        "\n",
        "    def reset(self):\n",
        "        \"\"\"\n",
        "        Important: the observation must be a numpy array\n",
        "        \n",
        "        return: numpy array of the state.\n",
        "        \"\"\"\n",
        "        self.assignment = self.generate_initial_assignment()\n",
        "        self.weapons_assigned = np.zeros(self.m)\n",
        "        return self.get_state()\n",
        "\n",
        "    def render(self, mode='human', close=False):\n",
        "        pass"
      ],
      "execution_count": 0,
      "outputs": []
    },
    {
      "cell_type": "code",
      "metadata": {
        "id": "RY4J624d2whV",
        "colab_type": "code",
        "colab": {}
      },
      "source": [
        "Transition = namedtuple('Transition',\n",
        "                        ('state', 'action', 'next_state', 'reward'))\n",
        "\n",
        "class ReplayMemory(object):\n",
        "    def __init__(self, capacity):\n",
        "        \"\"\"\n",
        "        Initialization\n",
        "        \"\"\"\n",
        "        self.capacity = capacity\n",
        "        self.memory = []\n",
        "        self.position = 0\n",
        "\n",
        "    def push(self, *args):\n",
        "        \"\"\"Saves a transition.\"\"\"\n",
        "        if len(self.memory) < self.capacity:\n",
        "            self.memory.append(None)\n",
        "        self.memory[self.position] = Transition(*args)\n",
        "        self.position = (self.position + 1) % self.capacity\n",
        "\n",
        "    def sample(self, batch_size):\n",
        "        return random.sample(self.memory, batch_size)\n",
        "\n",
        "    def __len__(self):\n",
        "        return len(self.memory)"
      ],
      "execution_count": 0,
      "outputs": []
    },
    {
      "cell_type": "code",
      "metadata": {
        "id": "LpKfiXyyuQ0o",
        "colab_type": "code",
        "colab": {}
      },
      "source": [
        "steps_done = 0\n",
        "\n",
        "def select_action(state, weapons_assigned, n, m, is_testing):\n",
        "    \"\"\"\n",
        "    Selects an action.\n",
        "\n",
        "    Input: state, assignment of weapons, n, m\n",
        "\n",
        "    Output: torch tensor of the action\n",
        "    \"\"\"\n",
        "    global steps_done\n",
        "    sample = random.random()\n",
        "    if not is_testing:\n",
        "        eps_threshold = EPS_END + (EPS_START - EPS_END) * \\\n",
        "            math.exp(-1. * steps_done / EPS_DECAY)\n",
        "        steps_done += 1\n",
        "    else:\n",
        "        # when testing, always use the neural net to select\n",
        "        # an action\n",
        "        eps_threshold = 0\n",
        "    weapons_tensor = torch.tensor(weapons_assigned)\n",
        "    if sample > eps_threshold:\n",
        "      with torch.no_grad():\n",
        "        policy_net.eval()\n",
        "        nn_prob = policy_net(state)\n",
        "        policy_net.train()\n",
        "        ind = torch.max(nn_prob, dim = 1)[1]\n",
        "        return torch.tensor([[ind]], device=device, dtype=torch.int)\n",
        "    else:\n",
        "      weapons_left = (weapons_tensor == 0).nonzero().flatten()\n",
        "      weapon = np.random.choice(weapons_left.numpy())\n",
        "      target = random.randrange(n)\n",
        "      ind = weapon * n + target\n",
        "      return torch.tensor([[ind]], device=device, dtype=torch.int)\n",
        "\n",
        "episode_durations = []\n",
        "\n",
        "def plot_durations(ep):\n",
        "    \"\"\"\n",
        "    Visual representation.\n",
        "    \"\"\"\n",
        "    fig = plt.figure(2)\n",
        "    plt.clf()\n",
        "    durations_t = torch.tensor(episode_durations, dtype=torch.float)\n",
        "    plt.title('Training...')\n",
        "    plt.xlabel('Episode')\n",
        "    plt.ylabel('Duration')\n",
        "    plt.plot(durations_t.numpy())\n",
        "    # Take 100 episode averages and plot them too\n",
        "    if len(durations_t) >= 100:\n",
        "        means = durations_t.unfold(0, 100, 1).mean(1).view(-1)\n",
        "        means = torch.cat((torch.zeros(99), means))\n",
        "        plt.plot(means.numpy())\n",
        "\n",
        "    plt.pause(0.001)  # pause a bit so that plots are updated\n",
        "    if is_ipython:\n",
        "        display.clear_output(wait=True)\n",
        "        display.display(plt.gcf())\n",
        "        # if ep % 5 == 0:\n",
        "        #   fig.savefig('episode{}'.format(ep))"
      ],
      "execution_count": 0,
      "outputs": []
    },
    {
      "cell_type": "code",
      "metadata": {
        "id": "1zlcNYG6tENK",
        "colab_type": "code",
        "colab": {}
      },
      "source": [
        "def optimize_model(memory):\n",
        "    if len(memory) < BATCH_SIZE:\n",
        "        return\n",
        "    transitions = memory.sample(BATCH_SIZE)\n",
        "    # Transpose the batch (see https://stackoverflow.com/a/19343/3343043 for\n",
        "    # detailed explanation). This converts batch-array of Transitions\n",
        "    # to Transition of batch-arrays.\n",
        "    batch = Transition(*zip(*transitions))\n",
        "\n",
        "    # Compute a mask of non-final states and concatenate the batch elements\n",
        "    # (a final state would've been the one after which simulation ended)\n",
        "    non_final_mask = torch.tensor(tuple(map(lambda s: s is not None,\n",
        "                                          batch.next_state)), device=device, dtype=torch.bool)\n",
        "    non_final_next_states = torch.cat([s for s in batch.next_state\n",
        "                                                if s is not None])\n",
        "\n",
        "    state_batch = torch.cat(batch.state)\n",
        "    action_batch = torch.cat(batch.action)\n",
        "    reward_batch = torch.cat(batch.reward)\n",
        "    # Compute Q(s_t, a) - the model computes Q(s_t), then we select the\n",
        "    # columns of actions taken. These are the actions which would've been taken\n",
        "    # for each batch state according to policy_net\n",
        "    state_action_values = policy_net(state_batch).gather(dim=1, index =action_batch.long())\n",
        "\n",
        "    # Compute V(s_{t+1}) for all next states.\n",
        "    # Expected values of actions for non_final_next_states are computed based\n",
        "    # on the \"older\" target_net; selecting their best reward with max(1)[0].\n",
        "    # This is merged based on the mask, such that we'll have either the expected\n",
        "    # state value or 0 in case the state was final.\n",
        "    next_state_values = torch.zeros(BATCH_SIZE, device=device)\n",
        "    next_state_values[non_final_mask] = target_net(non_final_next_states).max(1)[0].detach()\n",
        "    # Compute the expected Q values\n",
        "    expected_state_action_values = (next_state_values * GAMMA) + reward_batch\n",
        "\n",
        "    # Compute Huber loss\n",
        "    loss = F.smooth_l1_loss(state_action_values.double(), expected_state_action_values.unsqueeze(1).double())\n",
        "    value_loss = loss.item()\n",
        "    # Optimize the model\n",
        "    optimizer.zero_grad()\n",
        "    loss.backward()\n",
        "    for param in policy_net.parameters():\n",
        "        param.grad.data.clamp_(-1, 1)\n",
        "    optimizer.step()\n",
        "    return value_loss"
      ],
      "execution_count": 0,
      "outputs": []
    },
    {
      "cell_type": "code",
      "metadata": {
        "id": "Uv3CmBi49UG3",
        "colab_type": "code",
        "colab": {}
      },
      "source": [
        "\"\"\"Take in n by m matrix, convert it to 1D feature vector \"\"\"\n",
        "class DQN(nn.Module):\n",
        "    def __init__(self, n, m):\n",
        "        \"\"\"\n",
        "        Initialization.\n",
        "\n",
        "        Input: n, m, and the embedding size.\n",
        "        \"\"\"\n",
        "        super(DQN, self).__init__()\n",
        "        # The assignment is one-hot encoded and then passed in as a flattened\n",
        "        # vector\n",
        "        self.assignment_size = m * n\n",
        "        # The input consists of the current partial assignment, with the \n",
        "        # n target values appended to the end\n",
        "        self.input_size = self.assignment_size + n\n",
        "        self.n = n\n",
        "        self.m = m\n",
        "        self.mask_val = -2 ** 30\n",
        "          \n",
        "        units = 50\n",
        "        # Return the probabilities of making a new assignment of weapon \n",
        "        # m to target n\n",
        "        self.output_size = m * n\n",
        "        self.lin1 = nn.Linear(self.input_size, units)\n",
        "        self.drop1 = nn.Dropout(0.2)\n",
        "        self.lin2 = nn.Linear(units, self.assignment_size)\n",
        "        self.drop2 = nn.Dropout(0.2)\n",
        "\n",
        "    def forward(self, state):\n",
        "        \"\"\"\n",
        "        Called with either one element to determine next action, or a batch\n",
        "        during optimization. Returns tensor([[left0exp,right0exp]...]).\n",
        "        \"\"\"\n",
        "        end_assign = self.assignment_size\n",
        "        assignment = state[:, :end_assign].float()\n",
        "        assigned = state[:, end_assign:(end_assign + self.m)].int()\n",
        "        values = state[:, (end_assign + self.m):].float()\n",
        "        # Append the target values\n",
        "        x = torch.cat([assignment, values], dim=1)\n",
        "        x = F.relu(self.drop1(self.lin1(x)))\n",
        "        x = F.relu(self.drop2(self.lin2(x)))\n",
        "        # Mask out weapons that have already been assigned by adding a large\n",
        "        # negative number \n",
        "        mask = assigned.unsqueeze(-1).repeat(1, 1, self.n).view(assigned.shape[0], -1)\n",
        "        mask *= self.mask_val \n",
        "        x = x.add(torch.tensor(mask))\n",
        "        return x"
      ],
      "execution_count": 0,
      "outputs": []
    },
    {
      "cell_type": "code",
      "metadata": {
        "id": "KYDMP4O3HHmo",
        "colab_type": "code",
        "colab": {}
      },
      "source": [
        "# with dueling networks\n",
        "class DuelingDQN(nn.Module):\n",
        "    def __init__(self, n, m, units=128):\n",
        "        super(DuelingDQN, self).__init__()\n",
        "        # The assignment is one-hot encoded and then passed in as a flattened\n",
        "        # vector\n",
        "        self.assignment_size = m * n\n",
        "        # The input consists of the current partial assignment, with the \n",
        "        # n target values appended to the end\n",
        "        self.input_size = self.assignment_size + n\n",
        "        self.n = n\n",
        "        self.m = m\n",
        "        self.mask_val = -2 ** 30\n",
        "          \n",
        "        self.units = units\n",
        "        # Return the probabilities of making a new assignment of weapon \n",
        "        # m to target n\n",
        "        self.output_size = m * n\n",
        "        self.lin1 = nn.Linear(self.input_size, units)\n",
        "        self.drop1 = nn.Dropout(0.2)\n",
        "        self.lin2 = nn.Linear(units, self.output_size)\n",
        "        self.drop2 = nn.Dropout(0.2)\n",
        "\n",
        "        # Layer to measure the value of a state\n",
        "        self.value_stream = nn.Sequential(\n",
        "            nn.Linear(self.input_size, units),\n",
        "            nn.ReLU(),\n",
        "            nn.Linear(units, 1)\n",
        "        )\n",
        "        # Layer to measure the advantages of an action given a state\n",
        "        self.advantage_stream = nn.Sequential(\n",
        "            nn.Linear(self.input_size, units),\n",
        "            nn.ReLU(),\n",
        "            nn.Linear(units, self.output_size)\n",
        "        )\n",
        "\n",
        "    def forward(self, state):\n",
        "        end_assign = self.assignment_size\n",
        "        assignment = state[:, :end_assign].float()\n",
        "        assigned = state[:, end_assign:(end_assign + self.m)].int()\n",
        "        target_values = state[:, (end_assign + self.m):].float()\n",
        "        # Append the target values and concatenate the values\n",
        "        x = torch.cat([assignment, target_values], dim=1)\n",
        "        # Get the value of the state\n",
        "        values = self.value_stream(x)\n",
        "        advantages = self.advantage_stream(x)\n",
        "        qvals = values + (advantages - advantages.mean())\n",
        "        # Mask out weapons that have already been assigned by adding a large\n",
        "        # negative number \n",
        "        mask = assigned.unsqueeze(-1).repeat(1, 1, self.n).view(assigned.shape[0], -1)\n",
        "        mask *= self.mask_val \n",
        "        qvals = qvals.add(torch.tensor(mask))\n",
        "        return qvals\n",
        "\n",
        "    def feature_size(self):\n",
        "        return self.conv(autograd.Variable(torch.zeros(1, *self.input_dim))).view(1, -1).size(1)"
      ],
      "execution_count": 0,
      "outputs": []
    },
    {
      "cell_type": "code",
      "metadata": {
        "id": "S3QSYJHJ9Rac",
        "colab_type": "code",
        "colab": {}
      },
      "source": [
        "BATCH_SIZE = 128\n",
        "GAMMA = 1\n",
        "EPS_START = 0.9\n",
        "EPS_END = 0.05\n",
        "EPS_DECAY = 200\n",
        "TARGET_UPDATE = 100\n",
        "\n",
        "n = 4\n",
        "m = 5\n",
        "lower_val = 25\n",
        "upper_val = 50\n",
        "lower_prob = 0.6\n",
        "upper_prob = 0.9\n",
        "values = np.random.uniform(lower_val, upper_val, n)\n",
        "prob = np.random.uniform(lower_prob, upper_prob, (m, n))\n",
        "env = WTAEnv(values, prob, device)\n",
        "\n",
        "policy_net = DQN(n, m).to(device)\n",
        "target_net = DQN(n, m).to(device)\n",
        "\n",
        "# DuelingDQN is broke, press F\n",
        "# policy_net = DuelingDQN(n, m).to(device)\n",
        "# target_net = DuelingDQN(n, m).to(device)\n",
        "target_net.load_state_dict(policy_net.state_dict())\n",
        "target_net.eval()\n",
        "\n",
        "optimizer = optim.RMSprop(policy_net.parameters())"
      ],
      "execution_count": 0,
      "outputs": []
    },
    {
      "cell_type": "code",
      "metadata": {
        "id": "WfYry9fxa7wn",
        "colab_type": "code",
        "colab": {}
      },
      "source": [
        "def train_model(n, m, prob, lower_val, upper_val, num_episodes = 50):\n",
        "    ''' \n",
        "    Trains a DQN on problem instances with n targets and \n",
        "    m weapons, as well as the same killing probabilities, \n",
        "    prob. For each episode, randomly sample a new problem\n",
        "    instance by sampling target values.\n",
        "    '''\n",
        "    memory = ReplayMemory(1000000)\n",
        "    losses = []\n",
        "    for i_episode in range(num_episodes):\n",
        "        # Randomly sample target values over a uniform distribution\n",
        "        values = np.random.uniform(lower_val, upper_val, n)\n",
        "        # Initialize the environment and state \n",
        "        env = WTAEnv(values, prob, device)\n",
        "        env.reset()\n",
        "        state = env.get_state()\n",
        "        for t in count():\n",
        "            # print(f'episode {i_episode}/{num_episodes}, iteration {t}', end='\\n')\n",
        "            # Select and perform an action\n",
        "            action = select_action(state, env.weapons_assigned, env.n, env.m, False)\n",
        "            observation, reward, done, _ = env.step(action)\n",
        "            reward = torch.tensor([reward], device=device)\n",
        "            \n",
        "            if not done:\n",
        "                next_state = observation\n",
        "            else:\n",
        "                next_state = None\n",
        "\n",
        "            # Store the transition in memory\n",
        "            memory.push(state, action, next_state, reward)\n",
        "            # Move to the next state\n",
        "            state = next_state\n",
        "\n",
        "            # Perform one step of the optimization (on the target network)\n",
        "            loss = optimize_model(memory)\n",
        "            if done:\n",
        "              episode_durations.append(t + 1)\n",
        "              # plot_durations(i_episode)\n",
        "              break\n",
        "        losses.append(loss)\n",
        "        # Update the target network, copying all weights and biases in DQN\n",
        "        # if i_episode % TARGET_UPDATE == 0:\n",
        "        #     target_net.load_state_dict(policy_net.state_dict())\n",
        "\n",
        "    # Just print out the last 10 values or so of loss\n",
        "    print(losses[-10:])\n",
        "    env.render()\n",
        "    env.close()\n",
        "    return losses"
      ],
      "execution_count": 0,
      "outputs": []
    },
    {
      "cell_type": "code",
      "metadata": {
        "id": "fbr_u_GFhujh",
        "colab_type": "code",
        "outputId": "5acf4db1-c86d-436e-99e8-e921d8e37cfc",
        "colab": {
          "base_uri": "https://localhost:8080/",
          "height": 319
        }
      },
      "source": [
        "losses = train_model(4, 5, prob, 25, 100, 50)\n",
        "x = np.arange(len(losses))\n",
        "plt.plot(x, losses)\n",
        "plt.show()"
      ],
      "execution_count": 11,
      "outputs": [
        {
          "output_type": "stream",
          "text": [
            "/usr/local/lib/python3.6/dist-packages/ipykernel_launcher.py:46: UserWarning: To copy construct from a tensor, it is recommended to use sourceTensor.clone().detach() or sourceTensor.clone().detach().requires_grad_(True), rather than torch.tensor(sourceTensor).\n"
          ],
          "name": "stderr"
        },
        {
          "output_type": "stream",
          "text": [
            "[20.92005915416282, 20.476481843246013, 19.677015773747115, 19.204560484735396, 20.604078145181095, 18.70641836447259, 19.61572746572734, 19.57652025406109, 18.02186711671026, 20.93554173497418]\n"
          ],
          "name": "stdout"
        },
        {
          "output_type": "display_data",
          "data": {
            "image/png": "[encoded data removed]",
            "text/plain": [
              "<Figure size 432x288 with 1 Axes>"
            ]
          },
          "metadata": {
            "tags": [],
            "needs_background": "light"
          }
        }
      ]
    },
    {
      "cell_type": "markdown",
      "metadata": {
        "id": "Ewu1662GOBky",
        "colab_type": "text"
      },
      "source": [
        "### Testing the model"
      ]
    },
    {
      "cell_type": "code",
      "metadata": {
        "id": "uKRmRVzLfWUP",
        "colab_type": "code",
        "outputId": "90fedc46-b92e-4c5f-94ad-d81aa0dc4478",
        "colab": {
          "base_uri": "https://localhost:8080/",
          "height": 54
        }
      },
      "source": [
        "from google.colab import drive\n",
        "drive.mount('/content/drive/')\n",
        "prefix = '/content/drive/My Drive/WTA/'"
      ],
      "execution_count": 12,
      "outputs": [
        {
          "output_type": "stream",
          "text": [
            "Drive already mounted at /content/drive/; to attempt to forcibly remount, call drive.mount(\"/content/drive/\", force_remount=True).\n"
          ],
          "name": "stdout"
        }
      ]
    },
    {
      "cell_type": "code",
      "metadata": {
        "id": "7QPn-lMqsICa",
        "colab_type": "code",
        "colab": {}
      },
      "source": [
        "# read example file\n",
        "def read_example_file(filename):\n",
        "    with open(filename) as fp:\n",
        "        n_targets = list(map(lambda x: int(x), fp.readline().split()))[0]\n",
        "        n_weapons = n_targets\n",
        "        values = []\n",
        "        for i in range(n_targets):\n",
        "            values.append(float(fp.readline()))\n",
        "\n",
        "        probabilities = []\n",
        "        for i in range(n_weapons):\n",
        "            probabilities.append([])\n",
        "            for j in range(n_targets):\n",
        "                probabilities[i].append(float(fp.readline()))\n",
        "    return n_targets, n_weapons, values, np.asarray(probabilities)\n",
        "\n",
        "def get_int_assignment(one_hot):\n",
        "    assignment = []\n",
        "    for i in range(len(one_hot)):\n",
        "        assignment.append(np.flatnonzero(one_hot[i])[0])\n",
        "    return assignment\n",
        "\n",
        "def reward(assignment, n_targets, n_weapons, values, probabilities, one_hot):\n",
        "    survival_probabilities = [1] * n_targets\n",
        "    # Convert the one-hot encoded assignments to int\n",
        "    if one_hot:\n",
        "        assignment = get_int_assignment(assignment)\n",
        "    for i in range(n_weapons):\n",
        "        survival_probabilities[assignment[i]] *= 1 - probabilities[i][assignment[i]]\n",
        "    reward = 0\n",
        "    for j in range(n_targets):\n",
        "        reward += values[j] * (1 - survival_probabilities[j])\n",
        "    return reward\n",
        "\n",
        "def test_model(test_env):\n",
        "    done = False\n",
        "    while not done:\n",
        "        action = select_action(test_env.get_state(), \\\n",
        "                               test_env.weapons_assigned, test_env.n, test_env.m, True)\n",
        "        observation, reward, done, _ = test_env.step(action)\n",
        "    return test_env.assignment\n",
        "\n",
        "def plot_losses(losses, fname):\n",
        "    x = np.arange(len(losses))\n",
        "    plt.plot(x, losses)\n",
        "    plt.savefig(fname)\n",
        "    plt.clf()"
      ],
      "execution_count": 0,
      "outputs": []
    },
    {
      "cell_type": "code",
      "metadata": {
        "id": "rTDpdxtqlUS1",
        "colab_type": "code",
        "outputId": "04800bbd-ee5c-47c3-dc53-1a1f6fdbcf12",
        "colab": {
          "base_uri": "https://localhost:8080/",
          "height": 54
        }
      },
      "source": [
        "for i in range(12, 13):\n",
        "    file = prefix + 'data/WTA' + str(i)\n",
        "    n_targets, n_weapons, values, probabilities = read_example_file(file)\n",
        "    lower_val = min(values)\n",
        "    upper_val = max(values)\n",
        "    \n",
        "    # Initialize the policy neural net, target, neural net, optimizer\n",
        "    policy_net = DQN(n_targets, n_weapons).to(device)\n",
        "    target_net = DQN(n_targets, n_weapons).to(device)\n",
        "    target_net.load_state_dict(policy_net.state_dict())\n",
        "    target_net.eval()\n",
        "    optimizer = optim.RMSprop(policy_net.parameters())\n",
        "    # Reset the number  of steps to 0\n",
        "    steps_done = 0\n",
        "    \n",
        "    # Train the model. Larger instances need more episodes to train over\n",
        "    # though this means it will take much longer to train them\n",
        "    num_episodes = n_targets * 10 if n_targets < 50 else 500\n",
        "    losses = train_model(n_targets, n_weapons, probabilities, lower_val, upper_val, num_episodes)\n",
        "    \n",
        "    # Plot losses and save models\n",
        "    plot_losses(losses, prefix + \"/results/example\"+str(i))\n",
        "    model_save_name = 'DQN' + str(i)\n",
        "    path = F\"models/{model_save_name}\" \n",
        "    torch.save(policy_net.state_dict(), prefix + path)"
      ],
      "execution_count": 0,
      "outputs": [
        {
          "output_type": "stream",
          "text": [
            "/usr/local/lib/python3.6/dist-packages/ipykernel_launcher.py:46: UserWarning: To copy construct from a tensor, it is recommended to use sourceTensor.clone().detach() or sourceTensor.clone().detach().requires_grad_(True), rather than torch.tensor(sourceTensor).\n"
          ],
          "name": "stderr"
        }
      ]
    },
    {
      "cell_type": "markdown",
      "metadata": {
        "id": "eXjGepnkkF7b",
        "colab_type": "text"
      },
      "source": [
        ""
      ]
    },
    {
      "cell_type": "code",
      "metadata": {
        "id": "a7hH9RIuhpoA",
        "colab_type": "code",
        "colab": {
          "base_uri": "https://localhost:8080/",
          "height": 54
        },
        "outputId": "076564cc-9bb6-4a75-f006-a1398f2f9bfd"
      },
      "source": [
        "# Run the model on the actual test instance\n",
        "rewards = []\n",
        "for i in range(1, 13):\n",
        "    model_path = prefix + 'models/DQN' + str(i)\n",
        "    file_path = prefix + 'data/WTA' + str(i)\n",
        "    checkpoint = torch.load(model_path)\n",
        "    n_targets, n_weapons, values, probabilities = read_example_file(file_path)\n",
        "    policy_net = DQN(n_targets, n_weapons).to(device)\n",
        "    policy_net.load_state_dict(checkpoint)\n",
        "    policy_net.eval()\n",
        "    test_env = WTAEnv(values, probabilities, device)\n",
        "    assignment = test_model(test_env)\n",
        "    print(assignment)\n",
        "    inst_reward = reward(assignment, n_targets, n_weapons, values, probabilities, True)\n",
        "    rewards.append(inst_reward)"
      ],
      "execution_count": 22,
      "outputs": [
        {
          "output_type": "stream",
          "text": [
            "/usr/local/lib/python3.6/dist-packages/ipykernel_launcher.py:46: UserWarning: To copy construct from a tensor, it is recommended to use sourceTensor.clone().detach() or sourceTensor.clone().detach().requires_grad_(True), rather than torch.tensor(sourceTensor).\n"
          ],
          "name": "stderr"
        }
      ]
    },
    {
      "cell_type": "code",
      "metadata": {
        "id": "_xZcVyCgbCss",
        "colab_type": "code",
        "colab": {
          "base_uri": "https://localhost:8080/",
          "height": 54
        },
        "outputId": "dfc2f6d4-205a-4ab4-9e90-0011f944678d"
      },
      "source": [
        "print(rewards)\n",
        "with open(prefix + 'results/rewards.txt', 'w') as f:\n",
        "    for val in rewards:\n",
        "        f.write(str(val) + '\\n')"
      ],
      "execution_count": 23,
      "outputs": [
        {
          "output_type": "stream",
          "text": [
            "[271.60042, 424.32449649292795, 645.736478812308, 1348.7045843200003, 1769.62080205, 2205.78054785, 2311.7931848069493, 3154.5531212999995, 3046.623840670009, 3914.2783342727803, 4566.622245776837, 7508.01276856903]\n"
          ],
          "name": "stdout"
        }
      ]
    },
    {
      "cell_type": "code",
      "metadata": {
        "id": "FJNB_lvcncp2",
        "colab_type": "code",
        "colab": {
          "base_uri": "https://localhost:8080/",
          "height": 54
        },
        "outputId": "ff2f96c6-f899-453a-e02e-d16b6e85f073"
      },
      "source": [
        "def generate_random_population(population_size, n_targets, n_weapons):\n",
        "    population = []\n",
        "    targets = list(range(n_targets))\n",
        "    for i in range(population_size):\n",
        "        assignment = [random.choice(targets) for _ in range(n_weapons)]\n",
        "        population.append(assignment)\n",
        "    return population\n",
        "\n",
        "prefix = '/content/drive/My Drive/WTA/'\n",
        "rewards = []\n",
        "with open(prefix + 'results/rewards.txt', 'r') as f:\n",
        "    for line in f:\n",
        "        rewards.append(float(line))\n",
        "\n",
        "# Compare rewards with randomly generated assignments\n",
        "avg_scores = []\n",
        "for i in range(1, 13):\n",
        "    file = prefix + 'data/WTA' + str(i)\n",
        "    n_targets, n_weapons, values, probabilities = read_example_file(file)\n",
        "    num_sample = 100\n",
        "    population = generate_random_population(num_sample, n_targets, n_weapons)\n",
        "    sum_improv = 0\n",
        "    for assign in population:\n",
        "        inst_reward = reward(assign, n_targets, n_weapons, values, probabilities, False)\n",
        "        # Calculate the percent of improvement from the reward of a randomly\n",
        "        # generated assignment to that of the assignment generated by the model\n",
        "        sum_improv += (rewards[i - 1] - inst_reward) / inst_reward\n",
        "    avg_scores.append(sum_improv / num_sample)\n",
        "print(avg_scores)"
      ],
      "execution_count": 17,
      "outputs": [
        {
          "output_type": "stream",
          "text": [
            "[0.388315102787385, 0.34877648437096537, 0.22332141131511807, 0.33859617363749683, 0.114327935109007, 0.3035525864767416]\n"
          ],
          "name": "stdout"
        }
      ]
    },
    {
      "cell_type": "code",
      "metadata": {
        "id": "ceeeKkzGBto_",
        "colab_type": "code",
        "colab": {}
      },
      "source": [
        ""
      ],
      "execution_count": 0,
      "outputs": []
    }
  ]
}