{
 "cells": [
  {
   "cell_type": "code",
   "execution_count": 59,
   "metadata": {},
   "outputs": [],
   "source": [
    "import random\n",
    "import math\n",
    "import copy\n",
    "\n",
    "import numpy as np\n",
    "\n",
    "# read example file\n",
    "def read_example_file(filename):\n",
    "    with open(filename) as fp:\n",
    "        n_targets, n_weapons = map(lambda x: int(x), fp.readline().split())\n",
    "\n",
    "        values = []\n",
    "        for i in range(n_targets):\n",
    "            values.append(float(fp.readline()))\n",
    "\n",
    "        probabilities = []\n",
    "        for i in range(n_weapons):\n",
    "            probabilities.append([])\n",
    "            for j in range(n_targets):\n",
    "                probabilities[i].append(float(fp.readline()))\n",
    "    return n_targets, n_weapons, values, probabilities"
   ]
  },
  {
   "cell_type": "code",
   "execution_count": 63,
   "metadata": {},
   "outputs": [
    {
     "data": {
      "text/plain": [
       "([0, 3, 4, 5, 7], [2, 3, 4, 5, 7])"
      ]
     },
     "execution_count": 63,
     "metadata": {},
     "output_type": "execute_result"
    }
   ],
   "source": [
    "a = [1, 2, 3, 4, 5]\n",
    "b = [6, 7, 8 ,9, 10]\n",
    "a[0], b[1] = b[1], a[0]\n",
    "a.sort()\n",
    "c = a\n",
    "c\n",
    "\n",
    "random.sample(a, 1)\n",
    "d = copy.deepcopy(a)\n",
    "a[0] = 0\n",
    "a, d"
   ]
  },
  {
   "cell_type": "markdown",
   "metadata": {},
   "source": [
    "# General GA"
   ]
  },
  {
   "cell_type": "code",
   "execution_count": 123,
   "metadata": {},
   "outputs": [],
   "source": [
    "class WTA_1D_General_GA:\n",
    "    def __init__(self, config):\n",
    "        self.config = config\n",
    "        # n_targets: number of targets, n_weapons: number of weapons\n",
    "        # values: list of target values (size: n_targets)\n",
    "        # probabilities: list of destruction probabilities (size: n_weapons x n_targets)\n",
    "        self.n_targets, self.n_weapons, self.values, self.probabilities = read_example_file(config['example_file'])\n",
    "        # state: list of assignments (size: population_size x n_weapons, 0-indexed for target of each weapon)\n",
    "        self.state = self.generate_initial_population(config['population_size'])\n",
    "        self.good_gene_dict = self.get_good_gene_dict()\n",
    "    \n",
    "    # get the best target for each weapon (used for ex_crossover)\n",
    "    def get_good_gene_dict(self):\n",
    "        good_gene_dict = {}\n",
    "        for i in range(self.n_weapons):\n",
    "            weapon_target_edv_list = []\n",
    "            for j in range(self.n_targets):\n",
    "                weapon_target_edv_list.append(self.values[j] * self.probabilities[i][j])\n",
    "            good_gene = weapon_target_edv_list.index(max(weapon_target_edv_list))\n",
    "            good_gene_dict[i] = good_gene\n",
    "                \n",
    "        return good_gene_dict\n",
    "    \n",
    "    # update state after crossover\n",
    "    def ocp_crossover(self, population):\n",
    "        crossover_state = []\n",
    "        for _ in range(self.config['population_size']):\n",
    "            father, mother = random.sample(population, 2)\n",
    "            point = random.randint(0, self.n_weapons-1)\n",
    "            child = father[:point] + mother[point:]\n",
    "            crossover_state.append(child)\n",
    "        return crossover_state\n",
    "    \n",
    "    # ex crossover as explained in the paper\n",
    "    # repeat the following process for m_c < n_target times\n",
    "    # 1. find genes (weapon-target pair) with the same value of target in both parents\n",
    "    # 2. inherit good genes (good gene defined as the maximum target for each weapon)\n",
    "    # 3. randomly select two genes not inhereited from parents\n",
    "    # 4. exchange genes to generate offspring\n",
    "    def ex_crossover(self, population):\n",
    "        pool = []\n",
    "        population = copy.deepcopy(population)\n",
    "        for _ in range(self.config['n_offsprings'] // 2):\n",
    "            father, mother = random.sample(population, 2)\n",
    "            child1, child2 = father, mother\n",
    "            for _ in range(self.config['m_c']):\n",
    "                # step 2\n",
    "                inherited_gene_list = []\n",
    "                for i in range(self.n_weapons):\n",
    "                    if father[i] == mother[i] and father[i] == self.good_gene_dict[i]: # inherit to child\n",
    "                        inherited_gene_list.append(i)\n",
    "                gene_swap_candidates = set(range(self.n_weapons)) - set(inherited_gene_list)\n",
    "                if len(gene_swap_candidates) < 2:\n",
    "                    break\n",
    "\n",
    "                # step 3\n",
    "                swap_idx1, swap_idx2 = random.sample(gene_swap_candidates, 2)\n",
    "                child1[swap_idx1], child2[swap_idx2] = child2[swap_idx2], child1[swap_idx1]\n",
    "                child1[swap_idx2], child2[swap_idx1] = child2[swap_idx1], child1[swap_idx2]\n",
    "            \n",
    "            pool.append(child1)\n",
    "            pool.append(child2)\n",
    "        return pool\n",
    "\n",
    "    # update state after mutation\n",
    "    \"\"\"\n",
    "    def mutate(self, learner):\n",
    "        mutated_state = []\n",
    "        for assignment in self.state:\n",
    "            mutated_assignment = learner.get_mutation(assignment)\n",
    "            mutated_state.append(mutated_assignment)\n",
    "        self.state = mutated_state\n",
    "    \"\"\"\n",
    "    def mutate(self, population):\n",
    "        mutated_population = []\n",
    "        for assignment in population:\n",
    "            for _ in range(self.config['m_m']):\n",
    "                # choose random gene\n",
    "                mutated_gene = random.sample(list(range(self.n_weapons)), 1)[0]\n",
    "                mutated_target = random.sample(list(range(self.n_targets)), 1)[0]\n",
    "                assignment[mutated_gene] = mutated_target\n",
    "            mutated_population.append(assignment)\n",
    "        return mutated_population\n",
    "    \n",
    "    def reward(self, assignment):\n",
    "        survival_probabilities = [1] * self.n_targets\n",
    "        for i in range(self.n_weapons):\n",
    "            survival_probabilities[assignment[i]] *= 1 - self.probabilities[i][assignment[i]]\n",
    "        reward = 0\n",
    "        for j in range(self.n_targets):\n",
    "            reward += self.values[j] * (1 - survival_probabilities[j])\n",
    "        return reward\n",
    "    \n",
    "    # choose the best population from the pool of population + offspring\n",
    "    def evolution_strategy(self, pool):\n",
    "        pool = sorted(pool, key = lambda x: self.reward(x), reverse=True)\n",
    "        return pool[:self.config['population_size']]\n",
    "    \n",
    "    # helper functions\n",
    "    def generate_initial_population(self, population_size):\n",
    "        population = []\n",
    "        targets = list(range(self.n_targets))\n",
    "        for i in range(population_size):\n",
    "            assignment = [random.choice(targets) for _ in range(self.n_weapons)]\n",
    "            population.append(assignment)\n",
    "        return population\n",
    "    \n",
    "    def reset(self):\n",
    "        self.state = [-1] * self.n_weapons\n",
    "        \n",
    "    def run(self, n_iter, verbose=False):\n",
    "        population = self.generate_initial_population(self.config['population_size'])\n",
    "#         print('initial population', population)\n",
    "        for i_iter in range(n_iter):\n",
    "            pool = self.ex_crossover(population)\n",
    "            pool = self.mutate(pool)\n",
    "            population = self.evolution_strategy(pool + population)\n",
    "\n",
    "            if verbose:\n",
    "                if (i_iter + 1) % 40 == 0:\n",
    "                    print('iter {}: reward = {:.2f}'.format(i_iter+1, max(map(lambda x: self.reward(x), population))))\n",
    "                    candidates = copy.deepcopy(population)\n",
    "                    candidates = sorted(candidates, key = lambda x: self.reward(x), reverse=True)\n",
    "                    print(candidates[0])\n",
    "        population = sorted(population, key = lambda x: self.reward(x), reverse=True)\n",
    "        return population[0]"
   ]
  },
  {
   "cell_type": "code",
   "execution_count": 124,
   "metadata": {},
   "outputs": [],
   "source": [
    "config = {\n",
    "    'example_file': './examples/WTA1',\n",
    "    'population_size': 40,\n",
    "    'n_offsprings': 40,\n",
    "    'm_c': 5,\n",
    "    'm_m': 5\n",
    "}"
   ]
  },
  {
   "cell_type": "code",
   "execution_count": 128,
   "metadata": {},
   "outputs": [
    {
     "name": "stdout",
     "output_type": "stream",
     "text": [
      "iter 40: reward = 302.37\n",
      "[1, 0, 2, 3, 4]\n",
      "iter 80: reward = 328.64\n",
      "[4, 3, 2, 1, 0]\n",
      "iter 120: reward = 328.64\n",
      "[4, 3, 2, 1, 0]\n",
      "iter 160: reward = 328.64\n",
      "[4, 3, 2, 1, 0]\n",
      "iter 200: reward = 328.64\n",
      "[4, 3, 2, 1, 0]\n",
      "iter 240: reward = 328.64\n",
      "[4, 3, 2, 1, 0]\n",
      "iter 280: reward = 328.64\n",
      "[4, 3, 2, 1, 0]\n",
      "iter 320: reward = 328.64\n",
      "[4, 3, 2, 1, 0]\n",
      "iter 360: reward = 328.64\n",
      "[4, 3, 2, 1, 0]\n",
      "iter 400: reward = 328.64\n",
      "[4, 3, 2, 1, 0]\n"
     ]
    },
    {
     "data": {
      "text/plain": [
       "[4, 3, 2, 1, 0]"
      ]
     },
     "execution_count": 128,
     "metadata": {},
     "output_type": "execute_result"
    }
   ],
   "source": [
    "wta_1d = WTA_1D_General_GA(config)\n",
    "\n",
    "wta_1d.run(400, verbose=True)"
   ]
  },
  {
   "cell_type": "code",
   "execution_count": null,
   "metadata": {},
   "outputs": [],
   "source": []
  }
 ],
 "metadata": {
  "kernelspec": {
   "display_name": "Python 3",
   "language": "python",
   "name": "python3"
  },
  "language_info": {
   "codemirror_mode": {
    "name": "ipython",
    "version": 3
   },
   "file_extension": ".py",
   "mimetype": "text/x-python",
   "name": "python",
   "nbconvert_exporter": "python",
   "pygments_lexer": "ipython3",
   "version": "3.6.6"
  }
 },
 "nbformat": 4,
 "nbformat_minor": 2
}
