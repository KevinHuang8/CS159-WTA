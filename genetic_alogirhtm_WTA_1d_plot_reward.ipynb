{
 "cells": [
  {
   "cell_type": "code",
   "execution_count": 38,
   "metadata": {},
   "outputs": [],
   "source": [
    "import random\n",
    "import math\n",
    "import copy\n",
    "import csv\n",
    "\n",
    "import numpy as np\n",
    "import pandas as pd\n",
    "\n",
    "import matplotlib\n",
    "import matplotlib.pyplot as plt\n",
    "\n",
    "import torch \n",
    "import torch.nn as nn\n",
    "import torch.optim as optim\n",
    "import torch.nn.functional as F\n",
    "import torchvision.transforms as T\n",
    "\n",
    "# set up matplotlib\n",
    "is_ipython = 'inline' in matplotlib.get_backend()\n",
    "if is_ipython:\n",
    "    from IPython import display\n",
    "\n",
    "plt.ion()\n",
    "device = torch.device(\"cuda\" if torch.cuda.is_available() else \"cpu\")\n",
    "\n",
    "params = {'legend.fontsize': 20,\n",
    "          'figure.figsize': (15, 5),\n",
    "         'axes.labelsize': 25,\n",
    "         'axes.titlesize':20,\n",
    "         'xtick.labelsize': 20,\n",
    "         'ytick.labelsize':20}\n",
    "\n",
    "plt.rcParams.update(params)"
   ]
  },
  {
   "cell_type": "code",
   "execution_count": 2,
   "metadata": {},
   "outputs": [],
   "source": [
    "# read example file\n",
    "def read_example_file(filename):\n",
    "    with open(filename) as fp:\n",
    "        prob_setting = list(map(lambda x: int(x), fp.readline().split()))\n",
    "        if len(prob_setting) == 1:\n",
    "            n_targets, n_weapons = prob_setting[0], prob_setting[0]\n",
    "        else:\n",
    "            n_targets, n_weapons = prob_setting\n",
    "\n",
    "        values = []\n",
    "        for i in range(n_targets):\n",
    "            values.append(float(fp.readline()))\n",
    "\n",
    "        probabilities = []\n",
    "        for i in range(n_weapons):\n",
    "            probabilities.append([])\n",
    "            for j in range(n_targets):\n",
    "                probabilities[i].append(float(fp.readline()))\n",
    "    return n_targets, n_weapons, values, probabilities"
   ]
  },
  {
   "cell_type": "code",
   "execution_count": 3,
   "metadata": {},
   "outputs": [],
   "source": [
    "# check convergence\n",
    "def check_convergence(population, threshold):\n",
    "    assignment_dict = {}\n",
    "    for assignment in population:\n",
    "        assignment = tuple(assignment)\n",
    "        if assignment not in assignment_dict:\n",
    "            assignment_dict[assignment] = 0\n",
    "        assignment_dict[assignment] += 1\n",
    "    for assignment in assignment_dict:\n",
    "        if assignment_dict[assignment] >= len(population) * threshold:\n",
    "            return True\n",
    "    return False"
   ]
  },
  {
   "cell_type": "markdown",
   "metadata": {},
   "source": [
    "# DQN-related code"
   ]
  },
  {
   "cell_type": "code",
   "execution_count": 4,
   "metadata": {},
   "outputs": [],
   "source": [
    "'''Take in n by m matrix, convert it to 1D feature vector '''\n",
    "class DQN(nn.Module):\n",
    "    def __init__(self, n, m, embedding_size=8, units=64):\n",
    "        super(DQN, self).__init__()\n",
    "        # The assignment becomes embedded, so it has size m * embedding_size\n",
    "        # when flattened\n",
    "        # The n comes from the values attached\n",
    "        self.assignment_size = m * embedding_size\n",
    "        self.input_size = self.assignment_size + n\n",
    "        self.output_size = m * n\n",
    "        self.n = n\n",
    "        self.m = m\n",
    "    \n",
    "        self.embedding_size = embedding_size\n",
    "        # Embed the targets, since the actual numerical value of the\n",
    "        # targets don't mean anything\n",
    "        # Another idea: skip the middleman and replace the targets\n",
    "        # with the target values\n",
    "        self.embedding = nn.Embedding(n, self.embedding_size)\n",
    "        self.lin1 = nn.Linear(self.input_size, units)\n",
    "        self.drop1 = nn.Dropout(0.2)\n",
    "        self.lin2 = nn.Linear(units, self.output_size)\n",
    "        self.drop2 = nn.Dropout(0.2)\n",
    "\n",
    "    # Called with either one element to determine next action, or a batch\n",
    "    # during optimization. Returns tensor([[left0exp,right0exp]...]).\n",
    "    def forward(self, state):\n",
    "        assignment = state[:, :self.m].long()\n",
    "        assignment = self.embedding(assignment)\n",
    "        \n",
    "        values = state[:, self.m:].float()\n",
    "                \n",
    "        # Flatten the assignment embedding\n",
    "        assignment = assignment.view(-1, self.assignment_size).float() \n",
    "        \n",
    "        # and concatenate the values\n",
    "        x = torch.cat([assignment, values], dim=1)\n",
    "        \n",
    "        x = F.relu(self.drop1(self.lin1(x)))\n",
    "        x = F.relu(self.lin2(x))\n",
    "        return x\n",
    "\n",
    "# with dueling networks\n",
    "class DuelingDQN(nn.Module):\n",
    "\n",
    "    def __init__(self, n, m, embedding_size=8, units=128):\n",
    "        super(DuelingDQN, self).__init__()\n",
    "        # The assignment becomes embedded, so it has size m * embedding_size\n",
    "        # when flattened\n",
    "        # The n comes from the values attached\n",
    "        self.assignment_size = m * embedding_size\n",
    "        self.input_size = self.assignment_size + n\n",
    "        self.output_size = m * n\n",
    "        self.n = n\n",
    "        self.m = m\n",
    "      \n",
    "        self.units = units\n",
    "\n",
    "        self.embedding_size = embedding_size\n",
    "        # Embed the targets, since the actual numerical value of the\n",
    "        # targets don't mean anything\n",
    "        # Another idea: skip the middleman and replace the targets\n",
    "        # with the target values\n",
    "        self.embedding = nn.Embedding(n, self.embedding_size)\n",
    "        self.lin1 = nn.Linear(self.input_size, units)\n",
    "        self.drop1 = nn.Dropout(0.2)\n",
    "\n",
    "        # Layer to measure the value of a state\n",
    "        self.value_stream = nn.Sequential(\n",
    "            nn.Linear(units, units),\n",
    "            nn.ReLU(),\n",
    "            nn.Linear(units, 1)\n",
    "        )\n",
    "        # Layer to measure the advantages of an action given a state\n",
    "        self.advantage_stream = nn.Sequential(\n",
    "            nn.Linear(units, units),\n",
    "            nn.ReLU(),\n",
    "            nn.Linear(units, self.output_size)\n",
    "        )\n",
    "\n",
    "    def forward(self, state):\n",
    "        assignment = state[:, :self.m].long()\n",
    "        assignment = self.embedding(assignment)\n",
    "\n",
    "\n",
    "        values = state[:, self.m:].float()\n",
    "\n",
    "        # Flatten the assignment embedding\n",
    "        assignment = assignment.view(-1, self.assignment_size).float() \n",
    "        \n",
    "        # and concatenate the values\n",
    "        x = torch.cat([assignment, values], dim=1)\n",
    "        x = F.relu(self.drop1(self.lin1(x)))\n",
    "        values = self.value_stream(x)\n",
    "        advantages = self.advantage_stream(x)\n",
    "        qvals = values + (advantages - advantages.mean())\n",
    "        \n",
    "        return qvals\n",
    "\n",
    "    def feature_size(self):\n",
    "        return self.conv(autograd.Variable(torch.zeros(1, *self.input_dim))).view(1, -1).size(1)"
   ]
  },
  {
   "cell_type": "code",
   "execution_count": 5,
   "metadata": {},
   "outputs": [],
   "source": [
    "def is_possible(state, weapon, target):\n",
    "    '''\n",
    "    We don't want to assign a weapon to the target if it is already assigned\n",
    "    to the target, since this does not change the state at all.\n",
    "    '''\n",
    "    curr_target = state[weapon].item()\n",
    "    return curr_target != target \n",
    "\n",
    "def select_action(model, state, n):\n",
    "    # state: 1 * (n + m) tensor\n",
    "    with torch.no_grad():\n",
    "        model.eval()\n",
    "        state_batch = torch.unsqueeze(state, 1).transpose(0, 1).float()\n",
    "        largest = torch.sort(model(state_batch), descending=True, dim=1)[1]\n",
    "        model.train()\n",
    "\n",
    "        # Try until we get a valid action\n",
    "        for i in largest[0]:\n",
    "            weapon = i / n\n",
    "            target = i % n\n",
    "\n",
    "            if is_possible(state, weapon.item(), target.item()):\n",
    "                return torch.tensor([i], device=device)\n",
    "\n",
    "        # This should never happen\n",
    "        raise ValueError('Invalid state: no possible action')\n",
    "        \n",
    "def decode_action(action, n):\n",
    "        '''\n",
    "        Given an action, return the weapon and target associated with\n",
    "        that action.\n",
    "        '''\n",
    "        return action // n, action % n"
   ]
  },
  {
   "cell_type": "markdown",
   "metadata": {},
   "source": [
    "# General GA"
   ]
  },
  {
   "cell_type": "code",
   "execution_count": 18,
   "metadata": {},
   "outputs": [],
   "source": [
    "class WTA_1D_General_GA:\n",
    "    def __init__(self, config, example_number, mutation_method='random'):\n",
    "        self.config = config\n",
    "        # n_targets: number of targets, n_weapons: number of weapons\n",
    "        # values: list of target values (size: n_targets)\n",
    "        # probabilities: list of destruction probabilities (size: n_weapons x n_targets)\n",
    "        self.n_targets, self.n_weapons, self.values, self.probabilities = read_example_file(config['example_file'])\n",
    "        # state: list of assignments (size: population_size x n_weapons, 0-indexed for target of each weapon)\n",
    "        self.state = self.generate_initial_population(config['population_size'])\n",
    "        self.good_gene_dict = self.get_good_gene_dict()\n",
    "        self.mutation_method = mutation_method\n",
    "        self.dqn_model = torch.load('./trained_models/WTA{}'.format(example_number), map_location=torch.device('cpu'))\n",
    "        self.dqn_model.eval()\n",
    "        self.dueling_dqn_model = torch.load('./trained_models/WTA{}_dueling'.format(example_number), map_location=torch.device('cpu'))\n",
    "        self.dueling_dqn_model.eval()\n",
    "    \n",
    "    # get the best target for each weapon (used for ex_crossover)\n",
    "    def get_good_gene_dict(self):\n",
    "        good_gene_dict = {}\n",
    "        for i in range(self.n_weapons):\n",
    "            weapon_target_edv_list = []\n",
    "            for j in range(self.n_targets):\n",
    "                weapon_target_edv_list.append(self.values[j] * self.probabilities[i][j])\n",
    "            good_gene = weapon_target_edv_list.index(max(weapon_target_edv_list))\n",
    "            good_gene_dict[i] = good_gene\n",
    "                \n",
    "        return good_gene_dict\n",
    "    \n",
    "    # update state after crossover\n",
    "    def ocp_crossover(self, population):\n",
    "        crossover_state = []\n",
    "        for _ in range(self.config['population_size']):\n",
    "            father, mother = random.sample(population, 2)\n",
    "            point = random.randint(0, self.n_weapons-1)\n",
    "            child = father[:point] + mother[point:]\n",
    "            crossover_state.append(child)\n",
    "        return crossover_state\n",
    "    \n",
    "    # ex crossover as explained in the paper\n",
    "    # repeat the following process for m_c < n_target times\n",
    "    # 1. find genes (weapon-target pair) with the same value of target in both parents\n",
    "    # 2. inherit good genes (good gene defined as the maximum target for each weapon)\n",
    "    # 3. randomly select two genes not inhereited from parents\n",
    "    # 4. exchange genes to generate offspring\n",
    "    def ex_crossover(self, population):\n",
    "        pool = []\n",
    "        population = copy.deepcopy(population)\n",
    "        for _ in range(self.config['n_offsprings'] // 2):\n",
    "            father, mother = random.sample(population, 2)\n",
    "            child1, child2 = father, mother\n",
    "            for _ in range(self.config['m_c']):\n",
    "                # step 2\n",
    "                inherited_gene_list = []\n",
    "                for i in range(self.n_weapons):\n",
    "                    if father[i] == mother[i] and father[i] == self.good_gene_dict[i]: # inherit to child\n",
    "                        inherited_gene_list.append(i)\n",
    "                gene_swap_candidates = set(range(self.n_weapons)) - set(inherited_gene_list)\n",
    "                if len(gene_swap_candidates) < 2:\n",
    "                    break\n",
    "\n",
    "                # step 3\n",
    "                swap_idx1, swap_idx2 = random.sample(gene_swap_candidates, 2)\n",
    "                child1[swap_idx1], child2[swap_idx2] = child2[swap_idx2], child1[swap_idx1]\n",
    "                child1[swap_idx2], child2[swap_idx1] = child2[swap_idx1], child1[swap_idx2]\n",
    "            \n",
    "            pool.append(child1)\n",
    "            pool.append(child2)\n",
    "        return pool\n",
    "\n",
    "    # update state after mutation\n",
    "    \"\"\"\n",
    "    def mutate(self, learner):\n",
    "        mutated_state = []\n",
    "        for assignment in self.state:\n",
    "            mutated_assignment = learner.get_mutation(assignment)\n",
    "            mutated_state.append(mutated_assignment)\n",
    "        self.state = mutated_state\n",
    "    \"\"\"\n",
    "    def mutate_random(self, population):\n",
    "        mutated_population = []\n",
    "        for assignment in population:\n",
    "            for _ in range(self.config['m_m']):\n",
    "                # choose random gene\n",
    "                mutated_weapon = random.sample(list(range(self.n_weapons)), 1)[0]\n",
    "                mutated_target = random.sample(list(range(self.n_targets)), 1)[0]\n",
    "                assignment[mutated_weapon] = mutated_target\n",
    "            mutated_population.append(assignment)\n",
    "        return mutated_population\n",
    "    \n",
    "    def mutate_dqn(self, population, model_type):\n",
    "        mutated_population = []\n",
    "        for assignment in population:\n",
    "            for _ in range(self.config['m_m']):\n",
    "                state = torch.tensor(np.concatenate([assignment, self.values]), device=torch.device('cpu'))\n",
    "                if model_type == 'dqn':\n",
    "                    action = select_action(self.dqn_model, state, self.n_weapons)\n",
    "                elif model_type == 'dueling_dqn':\n",
    "                    action = select_action(self.dueling_dqn_model, state, self.n_weapons)\n",
    "                mutated_weapon, mutated_target = decode_action(action, self.n_weapons)\n",
    "                mutated_weapon, mutated_target = mutated_weapon.numpy()[0], mutated_target.numpy()[0]\n",
    "                assignment[mutated_weapon] = mutated_target\n",
    "            mutated_population.append(assignment)\n",
    "        return mutated_population\n",
    "    \n",
    "    def reward(self, assignment):\n",
    "        survival_probabilities = [1] * self.n_targets\n",
    "        for i in range(self.n_weapons):\n",
    "            survival_probabilities[assignment[i]] *= 1 - self.probabilities[i][assignment[i]]\n",
    "        reward = 0\n",
    "        for j in range(self.n_targets):\n",
    "            reward += self.values[j] * (1 - survival_probabilities[j])\n",
    "        return reward\n",
    "    \n",
    "    # choose the best population from the pool of population + offspring\n",
    "    def evolution_strategy(self, pool):\n",
    "        pool = sorted(pool, key = lambda x: self.reward(x), reverse=True)\n",
    "        return pool[:self.config['population_size']]\n",
    "    \n",
    "    # helper functions\n",
    "    def generate_initial_population(self, population_size):\n",
    "        population = []\n",
    "        targets = list(range(self.n_targets))\n",
    "        for i in range(population_size):\n",
    "            assignment = [random.choice(targets) for _ in range(self.n_weapons)]\n",
    "            population.append(assignment)\n",
    "        return population\n",
    "    \n",
    "    def reset(self):\n",
    "        self.state = [-1] * self.n_weapons\n",
    "        \n",
    "    def run(self, max_iter, convergence_threshold=1.0, verbose=False, fp=None):\n",
    "        population = self.generate_initial_population(self.config['population_size'])\n",
    "#         print('initial population', population)\n",
    "        assert self.mutation_method in ['random', 'dqn', 'dueling_dqn']\n",
    "        for i_iter in range(max_iter):\n",
    "            pool = self.ex_crossover(population)\n",
    "            if self.mutation_method == 'random':\n",
    "                pool = self.mutate_random(pool)\n",
    "            elif self.mutation_method == 'dqn':\n",
    "                pool = self.mutate_dqn(pool, self.mutation_method)\n",
    "            elif self.mutation_method == 'dueling_dqn':\n",
    "                pool = self.mutate_dqn(pool, self.mutation_method)\n",
    "            population = self.evolution_strategy(pool + population)\n",
    "            \n",
    "            if fp is not None:\n",
    "                reward = max(map(lambda x: self.reward(x), population))\n",
    "                result = sorted(population, key = lambda x: self.reward(x), reverse=True)[0]\n",
    "                out_list = [str(i_iter + 1), '{:.2f}'.format(reward), '_'.join(map(lambda x: str(x), result))]\n",
    "                fp.write(','.join(out_list) + '\\n')\n",
    "            \n",
    "            # check convergence\n",
    "            if check_convergence(population, convergence_threshold):\n",
    "                if verbose:\n",
    "                    print('converged in iter {}'.format(i_iter+1))\n",
    "                break\n",
    "                \n",
    "            if verbose:\n",
    "                if (i_iter + 1) % 40 == 0:\n",
    "                    print('iter {}: reward = {:.2f}'.format(i_iter+1, max(map(lambda x: self.reward(x), population))))\n",
    "                    candidates = copy.deepcopy(population)\n",
    "                    candidates = sorted(candidates, key = lambda x: self.reward(x), reverse=True)\n",
    "                    print(candidates[0])\n",
    "        population = sorted(population, key = lambda x: self.reward(x), reverse=True)\n",
    "        return population[0], self.reward(population[0]), i_iter+1"
   ]
  },
  {
   "cell_type": "code",
   "execution_count": 19,
   "metadata": {},
   "outputs": [],
   "source": [
    "config = {\n",
    "    'example_file': './examples/WTA1',\n",
    "    'population_size': 50,\n",
    "    'n_offsprings': 50,\n",
    "    'm_c': 1,\n",
    "    'm_m': 1 # for fair comparison set m_m to 1\n",
    "}"
   ]
  },
  {
   "cell_type": "code",
   "execution_count": 20,
   "metadata": {},
   "outputs": [
    {
     "name": "stdout",
     "output_type": "stream",
     "text": [
      "converged in iter 6\n"
     ]
    },
    {
     "data": {
      "text/plain": [
       "([0, 3, 2, 1, 4], 327.082, 6)"
      ]
     },
     "execution_count": 20,
     "metadata": {},
     "output_type": "execute_result"
    }
   ],
   "source": [
    "wta_1d = WTA_1D_General_GA(config, 1, mutation_method='dqn')\n",
    "\n",
    "wta_1d.run(800, convergence_threshold=0.5, verbose=True)"
   ]
  },
  {
   "cell_type": "markdown",
   "metadata": {},
   "source": [
    "# Experiments"
   ]
  },
  {
   "cell_type": "code",
   "execution_count": 21,
   "metadata": {},
   "outputs": [],
   "source": [
    "N_WEAPONS = 20\n",
    "max_iter = 5000\n",
    "N_WTA = 3\n",
    "M_POPULATION = 15\n",
    "M_OFFSPRINGS = 10\n",
    "N_EXPERIMENTS = 5\n",
    "CONVERGENCE_THRESHOLD = 0.8\n",
    "\n",
    "config = {\n",
    "    'example_file': './examples/WTA{}'.format(N_WTA),\n",
    "    'population_size': N_WEAPONS * M_POPULATION,\n",
    "    'n_offsprings': N_WEAPONS * M_OFFSPRINGS,\n",
    "    'm_c': 1,\n",
    "    'm_m': 1 # for fair comparison set m_m to 1\n",
    "}"
   ]
  },
  {
   "cell_type": "markdown",
   "metadata": {},
   "source": [
    "## Generate points to plot"
   ]
  },
  {
   "cell_type": "code",
   "execution_count": 24,
   "metadata": {},
   "outputs": [
    {
     "name": "stdout",
     "output_type": "stream",
     "text": [
      "result: [2, 1, 7, 9, 15, 3, 5, 13, 10, 12, 17, 18, 14, 4, 11, 6, 19, 0, 16, 8], reward: 952.090, convergence: 5000\n",
      "result: [11, 1, 17, 16, 18, 2, 5, 13, 10, 12, 3, 19, 14, 0, 4, 6, 9, 7, 15, 8], reward: 950.155, convergence: 5000\n",
      "result: [2, 1, 17, 8, 15, 10, 5, 13, 7, 6, 4, 19, 18, 0, 11, 3, 14, 9, 16, 12], reward: 947.642, convergence: 5000\n",
      "result: [18, 8, 11, 9, 1, 2, 5, 13, 10, 12, 3, 19, 17, 0, 4, 6, 14, 7, 15, 16], reward: 949.128, convergence: 5000\n",
      "result: [2, 1, 11, 9, 15, 10, 5, 18, 7, 12, 17, 19, 13, 4, 3, 6, 8, 0, 14, 16], reward: 950.342, convergence: 5000\n"
     ]
    }
   ],
   "source": [
    "convergence_threshold = 0.8\n",
    "\n",
    "for i_exp in range(N_EXPERIMENTS):\n",
    "    fpout = open('./experiments/plot/WTA{}_random_{}.csv'.format(N_WTA, i_exp), 'w')\n",
    "    fpout.write('i_iter,reward,result\\n')\n",
    "\n",
    "    wta_1d = WTA_1D_General_GA(config, N_WTA, mutation_method='random')\n",
    "    result, reward, convergence_iter = wta_1d.run(max_iter, convergence_threshold=CONVERGENCE_THRESHOLD, fp=fpout, verbose=False)\n",
    "    print('result: {}, reward: {:.3f}, convergence: {}'.format(result, reward, convergence_iter))\n",
    "\n",
    "    fpout.close()"
   ]
  },
  {
   "cell_type": "code",
   "execution_count": 25,
   "metadata": {},
   "outputs": [
    {
     "name": "stdout",
     "output_type": "stream",
     "text": [
      "result: [11, 6, 2, 9, 3, 18, 5, 13, 10, 12, 15, 4, 14, 0, 1, 17, 8, 7, 19, 16], reward: 949.253, convergence: 5000\n",
      "result: [19, 6, 2, 9, 16, 18, 5, 13, 10, 12, 3, 4, 14, 0, 11, 17, 8, 7, 15, 1], reward: 952.806, convergence: 5000\n",
      "result: [19, 16, 17, 10, 3, 18, 6, 13, 14, 12, 5, 4, 0, 15, 1, 2, 8, 7, 9, 11], reward: 901.803, convergence: 72\n",
      "result: [19, 1, 2, 9, 16, 18, 5, 13, 10, 6, 3, 4, 14, 0, 11, 17, 8, 7, 15, 12], reward: 953.973, convergence: 5000\n",
      "result: [2, 1, 17, 9, 3, 18, 5, 13, 10, 0, 16, 4, 14, 15, 11, 6, 8, 7, 19, 12], reward: 947.833, convergence: 5000\n"
     ]
    }
   ],
   "source": [
    "convergence_threshold = 0.8\n",
    "\n",
    "for i_exp in range(N_EXPERIMENTS):\n",
    "    fpout = open('./experiments/plot/WTA{}_dqn_{}.csv'.format(N_WTA, i_exp), 'w')\n",
    "    fpout.write('i_iter,reward,result\\n')\n",
    "\n",
    "    wta_1d = WTA_1D_General_GA(config, N_WTA, mutation_method='dqn')\n",
    "    result, reward, convergence_iter = wta_1d.run(max_iter, convergence_threshold=CONVERGENCE_THRESHOLD, fp=fpout, verbose=False)\n",
    "    print('result: {}, reward: {:.3f}, convergence: {}'.format(result, reward, convergence_iter))\n",
    "\n",
    "    fpout.close()"
   ]
  },
  {
   "cell_type": "code",
   "execution_count": 26,
   "metadata": {},
   "outputs": [
    {
     "name": "stdout",
     "output_type": "stream",
     "text": [
      "result: [19, 1, 5, 9, 18, 2, 3, 13, 10, 0, 17, 12, 14, 4, 11, 6, 8, 7, 15, 16], reward: 953.059, convergence: 5000\n",
      "result: [19, 0, 5, 11, 4, 2, 17, 13, 10, 1, 3, 12, 14, 7, 17, 6, 9, 8, 18, 16], reward: 884.400, convergence: 46\n",
      "result: [19, 7, 5, 9, 1, 2, 3, 13, 10, 6, 18, 12, 14, 4, 11, 17, 8, 0, 15, 16], reward: 952.628, convergence: 5000\n",
      "result: [19, 1, 5, 9, 18, 2, 3, 13, 10, 6, 4, 12, 14, 0, 11, 17, 8, 7, 15, 16], reward: 952.873, convergence: 5000\n",
      "result: [19, 0, 5, 11, 4, 2, 8, 1, 10, 9, 3, 12, 14, 8, 17, 6, 18, 13, 7, 16], reward: 883.279, convergence: 39\n"
     ]
    }
   ],
   "source": [
    "convergence_threshold = 0.8\n",
    "\n",
    "for i_exp in range(N_EXPERIMENTS):\n",
    "    fpout = open('./experiments/plot/WTA{}_dueling-dqn_{}.csv'.format(N_WTA, i_exp), 'w')\n",
    "    fpout.write('i_iter,reward,result\\n')\n",
    "\n",
    "    wta_1d = WTA_1D_General_GA(config, N_WTA, mutation_method='dueling_dqn')\n",
    "    result, reward, convergence_iter = wta_1d.run(max_iter, convergence_threshold=CONVERGENCE_THRESHOLD, fp=fpout, verbose=False)\n",
    "    print('result: {}, reward: {:.3f}, convergence: {}'.format(result, reward, convergence_iter))\n",
    "\n",
    "    fpout.close()"
   ]
  },
  {
   "cell_type": "markdown",
   "metadata": {},
   "source": [
    "## Plot the points"
   ]
  },
  {
   "cell_type": "code",
   "execution_count": 48,
   "metadata": {},
   "outputs": [],
   "source": [
    "def plot_reward(filename_list, dataname_list):\n",
    "    plt.figure(figsize=(20,10))\n",
    "    for idx, filename in enumerate(filename_list):\n",
    "        df = pd.read_csv(filename)\n",
    "        plt.plot(df.i_iter, df.reward, label=dataname_list[idx])\n",
    "    plt.legend()\n",
    "    plt.ylabel('reward')\n",
    "    plt.xlabel('iteration')\n",
    "    plt.show()"
   ]
  },
  {
   "cell_type": "code",
   "execution_count": 50,
   "metadata": {},
   "outputs": [
    {
     "data": {
      "image/png": "[encoded data removed]",
      "text/plain": [
       "<Figure size 1440x720 with 1 Axes>"
      ]
     },
     "metadata": {
      "needs_background": "light"
     },
     "output_type": "display_data"
    }
   ],
   "source": [
    "filename_list = ['./experiments/plot/WTA3_random_0.csv',\n",
    "                 './experiments/plot/WTA3_dqn_0.csv',\n",
    "                 './experiments/plot/WTA3_dueling-dqn_0.csv']\n",
    "dataname_list = ['random', 'dqn', 'dueling dqn']\n",
    "plot_reward(filename_list, dataname_list)"
   ]
  },
  {
   "cell_type": "code",
   "execution_count": 53,
   "metadata": {},
   "outputs": [
    {
     "data": {
      "image/png": "[encoded data removed]",
      "text/plain": [
       "<Figure size 1440x720 with 1 Axes>"
      ]
     },
     "metadata": {
      "needs_background": "light"
     },
     "output_type": "display_data"
    }
   ],
   "source": [
    "filename_list = ['./experiments/plot/WTA3_random_1.csv',\n",
    "                 './experiments/plot/WTA3_dqn_1.csv',\n",
    "                 './experiments/plot/WTA3_dueling-dqn_3.csv']\n",
    "dataname_list = ['random', 'dqn', 'dueling dqn']\n",
    "plot_reward(filename_list, dataname_list)"
   ]
  },
  {
   "cell_type": "markdown",
   "metadata": {},
   "source": [
    "## Only random mutation vs. random +  dqn mutation"
   ]
  },
  {
   "cell_type": "code",
   "execution_count": null,
   "metadata": {},
   "outputs": [],
   "source": []
  },
  {
   "cell_type": "markdown",
   "metadata": {},
   "source": [
    "## Figures for reward over time for random vs dqn"
   ]
  },
  {
   "cell_type": "code",
   "execution_count": null,
   "metadata": {},
   "outputs": [],
   "source": []
  },
  {
   "cell_type": "markdown",
   "metadata": {},
   "source": [
    "# Questions\n",
    "\n",
    "1. What happens if m_m or m_c larger than 1 - not much difference for WTA1 and WTA2\n",
    "2. Look into what happens when the program hits maximum iter\n",
    "3. Choose one m_population and m_offsprings and increase max_iter\n",
    "4. Compare using the same number of convergence instead of until it reaches convergence"
   ]
  },
  {
   "cell_type": "code",
   "execution_count": null,
   "metadata": {},
   "outputs": [],
   "source": []
  }
 ],
 "metadata": {
  "kernelspec": {
   "display_name": "Python 3",
   "language": "python",
   "name": "python3"
  },
  "language_info": {
   "codemirror_mode": {
    "name": "ipython",
    "version": 3
   },
   "file_extension": ".py",
   "mimetype": "text/x-python",
   "name": "python",
   "nbconvert_exporter": "python",
   "pygments_lexer": "ipython3",
   "version": "3.6.6"
  }
 },
 "nbformat": 4,
 "nbformat_minor": 2
}
