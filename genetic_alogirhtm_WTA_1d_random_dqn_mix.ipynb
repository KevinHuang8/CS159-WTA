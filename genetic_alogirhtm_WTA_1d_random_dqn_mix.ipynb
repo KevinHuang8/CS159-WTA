{
 "cells": [
  {
   "cell_type": "code",
   "execution_count": 42,
   "metadata": {},
   "outputs": [],
   "source": [
    "import random\n",
    "import math\n",
    "import copy\n",
    "import csv\n",
    "\n",
    "import numpy as np\n",
    "import pandas as pd\n",
    "\n",
    "import matplotlib\n",
    "import matplotlib.pyplot as plt\n",
    "\n",
    "import torch \n",
    "import torch.nn as nn\n",
    "import torch.optim as optim\n",
    "import torch.nn.functional as F\n",
    "import torchvision.transforms as T\n",
    "\n",
    "# set up matplotlib\n",
    "is_ipython = 'inline' in matplotlib.get_backend()\n",
    "if is_ipython:\n",
    "    from IPython import display\n",
    "\n",
    "plt.ion()\n",
    "device = torch.device(\"cuda\" if torch.cuda.is_available() else \"cpu\")\n",
    "\n",
    "params = {'legend.fontsize': 20,\n",
    "          'figure.figsize': (15, 5),\n",
    "         'axes.labelsize': 25,\n",
    "         'axes.titlesize':20,\n",
    "         'xtick.labelsize': 20,\n",
    "         'ytick.labelsize':20}\n",
    "\n",
    "plt.rcParams.update(params)"
   ]
  },
  {
   "cell_type": "code",
   "execution_count": 43,
   "metadata": {},
   "outputs": [],
   "source": [
    "# read example file\n",
    "def read_example_file(filename):\n",
    "    with open(filename) as fp:\n",
    "        prob_setting = list(map(lambda x: int(x), fp.readline().split()))\n",
    "        if len(prob_setting) == 1:\n",
    "            n_targets, n_weapons = prob_setting[0], prob_setting[0]\n",
    "        else:\n",
    "            n_targets, n_weapons = prob_setting\n",
    "\n",
    "        values = []\n",
    "        for i in range(n_targets):\n",
    "            values.append(float(fp.readline()))\n",
    "\n",
    "        probabilities = []\n",
    "        for i in range(n_weapons):\n",
    "            probabilities.append([])\n",
    "            for j in range(n_targets):\n",
    "                probabilities[i].append(float(fp.readline()))\n",
    "    return n_targets, n_weapons, values, probabilities"
   ]
  },
  {
   "cell_type": "code",
   "execution_count": 7,
   "metadata": {},
   "outputs": [],
   "source": [
    "# check convergence\n",
    "def check_convergence(population, threshold):\n",
    "    assignment_dict = {}\n",
    "    for assignment in population:\n",
    "        assignment = tuple(assignment)\n",
    "        if assignment not in assignment_dict:\n",
    "            assignment_dict[assignment] = 0\n",
    "        assignment_dict[assignment] += 1\n",
    "    for assignment in assignment_dict:\n",
    "        if assignment_dict[assignment] >= len(population) * threshold:\n",
    "            return True\n",
    "    return False"
   ]
  },
  {
   "cell_type": "markdown",
   "metadata": {},
   "source": [
    "# DQN-related code"
   ]
  },
  {
   "cell_type": "code",
   "execution_count": 8,
   "metadata": {},
   "outputs": [],
   "source": [
    "'''Take in n by m matrix, convert it to 1D feature vector '''\n",
    "class DQN(nn.Module):\n",
    "    def __init__(self, n, m, embedding_size=8, units=64):\n",
    "        super(DQN, self).__init__()\n",
    "        # The assignment becomes embedded, so it has size m * embedding_size\n",
    "        # when flattened\n",
    "        # The n comes from the values attached\n",
    "        self.assignment_size = m * embedding_size\n",
    "        self.input_size = self.assignment_size + n\n",
    "        self.output_size = m * n\n",
    "        self.n = n\n",
    "        self.m = m\n",
    "    \n",
    "        self.embedding_size = embedding_size\n",
    "        # Embed the targets, since the actual numerical value of the\n",
    "        # targets don't mean anything\n",
    "        # Another idea: skip the middleman and replace the targets\n",
    "        # with the target values\n",
    "        self.embedding = nn.Embedding(n, self.embedding_size)\n",
    "        self.lin1 = nn.Linear(self.input_size, units)\n",
    "        self.drop1 = nn.Dropout(0.2)\n",
    "        self.lin2 = nn.Linear(units, self.output_size)\n",
    "        self.drop2 = nn.Dropout(0.2)\n",
    "\n",
    "    # Called with either one element to determine next action, or a batch\n",
    "    # during optimization. Returns tensor([[left0exp,right0exp]...]).\n",
    "    def forward(self, state):\n",
    "        assignment = state[:, :self.m].long()\n",
    "        assignment = self.embedding(assignment)\n",
    "        \n",
    "        values = state[:, self.m:].float()\n",
    "                \n",
    "        # Flatten the assignment embedding\n",
    "        assignment = assignment.view(-1, self.assignment_size).float() \n",
    "        \n",
    "        # and concatenate the values\n",
    "        x = torch.cat([assignment, values], dim=1)\n",
    "        \n",
    "        x = F.relu(self.drop1(self.lin1(x)))\n",
    "        x = F.relu(self.lin2(x))\n",
    "        return x\n",
    "\n",
    "# with dueling networks\n",
    "class DuelingDQN(nn.Module):\n",
    "\n",
    "    def __init__(self, n, m, embedding_size=8, units=128):\n",
    "        super(DuelingDQN, self).__init__()\n",
    "        # The assignment becomes embedded, so it has size m * embedding_size\n",
    "        # when flattened\n",
    "        # The n comes from the values attached\n",
    "        self.assignment_size = m * embedding_size\n",
    "        self.input_size = self.assignment_size + n\n",
    "        self.output_size = m * n\n",
    "        self.n = n\n",
    "        self.m = m\n",
    "      \n",
    "        self.units = units\n",
    "\n",
    "        self.embedding_size = embedding_size\n",
    "        # Embed the targets, since the actual numerical value of the\n",
    "        # targets don't mean anything\n",
    "        # Another idea: skip the middleman and replace the targets\n",
    "        # with the target values\n",
    "        self.embedding = nn.Embedding(n, self.embedding_size)\n",
    "        self.lin1 = nn.Linear(self.input_size, units)\n",
    "        self.drop1 = nn.Dropout(0.2)\n",
    "\n",
    "        # Layer to measure the value of a state\n",
    "        self.value_stream = nn.Sequential(\n",
    "            nn.Linear(units, units),\n",
    "            nn.ReLU(),\n",
    "            nn.Linear(units, 1)\n",
    "        )\n",
    "        # Layer to measure the advantages of an action given a state\n",
    "        self.advantage_stream = nn.Sequential(\n",
    "            nn.Linear(units, units),\n",
    "            nn.ReLU(),\n",
    "            nn.Linear(units, self.output_size)\n",
    "        )\n",
    "\n",
    "    def forward(self, state):\n",
    "        assignment = state[:, :self.m].long()\n",
    "        assignment = self.embedding(assignment)\n",
    "\n",
    "\n",
    "        values = state[:, self.m:].float()\n",
    "\n",
    "        # Flatten the assignment embedding\n",
    "        assignment = assignment.view(-1, self.assignment_size).float() \n",
    "        \n",
    "        # and concatenate the values\n",
    "        x = torch.cat([assignment, values], dim=1)\n",
    "        x = F.relu(self.drop1(self.lin1(x)))\n",
    "        values = self.value_stream(x)\n",
    "        advantages = self.advantage_stream(x)\n",
    "        qvals = values + (advantages - advantages.mean())\n",
    "        \n",
    "        return qvals\n",
    "\n",
    "    def feature_size(self):\n",
    "        return self.conv(autograd.Variable(torch.zeros(1, *self.input_dim))).view(1, -1).size(1)"
   ]
  },
  {
   "cell_type": "code",
   "execution_count": 9,
   "metadata": {},
   "outputs": [],
   "source": [
    "def is_possible(state, weapon, target):\n",
    "    '''\n",
    "    We don't want to assign a weapon to the target if it is already assigned\n",
    "    to the target, since this does not change the state at all.\n",
    "    '''\n",
    "    curr_target = state[weapon].item()\n",
    "    return curr_target != target \n",
    "\n",
    "def select_action(model, state, n):\n",
    "    # state: 1 * (n + m) tensor\n",
    "    with torch.no_grad():\n",
    "        model.eval()\n",
    "        state_batch = torch.unsqueeze(state, 1).transpose(0, 1).float()\n",
    "        largest = torch.sort(model(state_batch), descending=True, dim=1)[1]\n",
    "        model.train()\n",
    "\n",
    "        # Try until we get a valid action\n",
    "        for i in largest[0]:\n",
    "            weapon = i / n\n",
    "            target = i % n\n",
    "\n",
    "            if is_possible(state, weapon.item(), target.item()):\n",
    "                return torch.tensor([i], device=device)\n",
    "\n",
    "        # This should never happen\n",
    "        raise ValueError('Invalid state: no possible action')\n",
    "        \n",
    "def decode_action(action, n):\n",
    "        '''\n",
    "        Given an action, return the weapon and target associated with\n",
    "        that action.\n",
    "        '''\n",
    "        return action // n, action % n"
   ]
  },
  {
   "cell_type": "markdown",
   "metadata": {},
   "source": [
    "# General GA"
   ]
  },
  {
   "cell_type": "code",
   "execution_count": 13,
   "metadata": {},
   "outputs": [],
   "source": [
    "class WTA_1D_General_GA:\n",
    "    def __init__(self, config, example_number, mutation_method='random'):\n",
    "        self.config = config\n",
    "        # n_targets: number of targets, n_weapons: number of weapons\n",
    "        # values: list of target values (size: n_targets)\n",
    "        # probabilities: list of destruction probabilities (size: n_weapons x n_targets)\n",
    "        self.n_targets, self.n_weapons, self.values, self.probabilities = read_example_file(config['example_file'])\n",
    "        # state: list of assignments (size: population_size x n_weapons, 0-indexed for target of each weapon)\n",
    "        self.state = self.generate_initial_population(config['population_size'])\n",
    "        self.good_gene_dict = self.get_good_gene_dict()\n",
    "        self.mutation_method = mutation_method\n",
    "        self.dqn_model = torch.load('./trained_models/WTA{}'.format(example_number), map_location=torch.device('cpu'))\n",
    "        self.dqn_model.eval()\n",
    "        self.dueling_dqn_model = torch.load('./trained_models/WTA{}_dueling'.format(example_number), map_location=torch.device('cpu'))\n",
    "        self.dueling_dqn_model.eval()\n",
    "    \n",
    "    # get the best target for each weapon (used for ex_crossover)\n",
    "    def get_good_gene_dict(self):\n",
    "        good_gene_dict = {}\n",
    "        for i in range(self.n_weapons):\n",
    "            weapon_target_edv_list = []\n",
    "            for j in range(self.n_targets):\n",
    "                weapon_target_edv_list.append(self.values[j] * self.probabilities[i][j])\n",
    "            good_gene = weapon_target_edv_list.index(max(weapon_target_edv_list))\n",
    "            good_gene_dict[i] = good_gene\n",
    "                \n",
    "        return good_gene_dict\n",
    "    \n",
    "    # update state after crossover\n",
    "    def ocp_crossover(self, population):\n",
    "        crossover_state = []\n",
    "        for _ in range(self.config['population_size']):\n",
    "            father, mother = random.sample(population, 2)\n",
    "            point = random.randint(0, self.n_weapons-1)\n",
    "            child = father[:point] + mother[point:]\n",
    "            crossover_state.append(child)\n",
    "        return crossover_state\n",
    "    \n",
    "    # ex crossover as explained in the paper\n",
    "    # repeat the following process for m_c < n_target times\n",
    "    # 1. find genes (weapon-target pair) with the same value of target in both parents\n",
    "    # 2. inherit good genes (good gene defined as the maximum target for each weapon)\n",
    "    # 3. randomly select two genes not inhereited from parents\n",
    "    # 4. exchange genes to generate offspring\n",
    "    def ex_crossover(self, population):\n",
    "        pool = []\n",
    "        population = copy.deepcopy(population)\n",
    "        for _ in range(self.config['n_offsprings'] // 2):\n",
    "            father, mother = random.sample(population, 2)\n",
    "            child1, child2 = father, mother\n",
    "            for _ in range(self.config['m_c']):\n",
    "                # step 2\n",
    "                inherited_gene_list = []\n",
    "                for i in range(self.n_weapons):\n",
    "                    if father[i] == mother[i] and father[i] == self.good_gene_dict[i]: # inherit to child\n",
    "                        inherited_gene_list.append(i)\n",
    "                gene_swap_candidates = set(range(self.n_weapons)) - set(inherited_gene_list)\n",
    "                if len(gene_swap_candidates) < 2:\n",
    "                    break\n",
    "\n",
    "                # step 3\n",
    "                swap_idx1, swap_idx2 = random.sample(gene_swap_candidates, 2)\n",
    "                child1[swap_idx1], child2[swap_idx2] = child2[swap_idx2], child1[swap_idx1]\n",
    "                child1[swap_idx2], child2[swap_idx1] = child2[swap_idx1], child1[swap_idx2]\n",
    "            \n",
    "            pool.append(child1)\n",
    "            pool.append(child2)\n",
    "        return pool\n",
    "\n",
    "    # update state after mutation\n",
    "    \"\"\"\n",
    "    def mutate(self, learner):\n",
    "        mutated_state = []\n",
    "        for assignment in self.state:\n",
    "            mutated_assignment = learner.get_mutation(assignment)\n",
    "            mutated_state.append(mutated_assignment)\n",
    "        self.state = mutated_state\n",
    "    \"\"\"\n",
    "    def mutate_random(self, population):\n",
    "        mutated_population = []\n",
    "        for assignment in population:\n",
    "            for _ in range(self.config['m_m']):\n",
    "                # choose random gene\n",
    "                mutated_weapon = random.sample(list(range(self.n_weapons)), 1)[0]\n",
    "                mutated_target = random.sample(list(range(self.n_targets)), 1)[0]\n",
    "                assignment[mutated_weapon] = mutated_target\n",
    "            mutated_population.append(assignment)\n",
    "        return mutated_population\n",
    "    \n",
    "    def mutate_dqn(self, population, model_type):\n",
    "        mutated_population = []\n",
    "        for assignment in population:\n",
    "            for _ in range(self.config['m_m']):\n",
    "                state = torch.tensor(np.concatenate([assignment, self.values]), device=torch.device('cpu'))\n",
    "                if model_type == 'dqn':\n",
    "                    action = select_action(self.dqn_model, state, self.n_weapons)\n",
    "                elif model_type == 'dueling_dqn':\n",
    "                    action = select_action(self.dueling_dqn_model, state, self.n_weapons)\n",
    "                mutated_weapon, mutated_target = decode_action(action, self.n_weapons)\n",
    "                mutated_weapon, mutated_target = mutated_weapon.numpy()[0], mutated_target.numpy()[0]\n",
    "                assignment[mutated_weapon] = mutated_target\n",
    "            mutated_population.append(assignment)\n",
    "        return mutated_population\n",
    "    \n",
    "    def reward(self, assignment):\n",
    "        survival_probabilities = [1] * self.n_targets\n",
    "        for i in range(self.n_weapons):\n",
    "            survival_probabilities[assignment[i]] *= 1 - self.probabilities[i][assignment[i]]\n",
    "        reward = 0\n",
    "        for j in range(self.n_targets):\n",
    "            reward += self.values[j] * (1 - survival_probabilities[j])\n",
    "        return reward\n",
    "    \n",
    "    # choose the best population from the pool of population + offspring\n",
    "    def evolution_strategy(self, pool):\n",
    "        pool = sorted(pool, key = lambda x: self.reward(x), reverse=True)\n",
    "        return pool[:self.config['population_size']]\n",
    "    \n",
    "    # helper functions\n",
    "    def generate_initial_population(self, population_size):\n",
    "        population = []\n",
    "        targets = list(range(self.n_targets))\n",
    "        for i in range(population_size):\n",
    "            assignment = [random.choice(targets) for _ in range(self.n_weapons)]\n",
    "            population.append(assignment)\n",
    "        return population\n",
    "    \n",
    "    def reset(self):\n",
    "        self.state = [-1] * self.n_weapons\n",
    "        \n",
    "    def run(self, max_iter, convergence_threshold=1.0, verbose=False, fp=None):\n",
    "        population = self.generate_initial_population(self.config['population_size'])\n",
    "#         print('initial population', population)\n",
    "        assert self.mutation_method in ['random', 'dqn', 'dueling_dqn']\n",
    "        for i_iter in range(max_iter):\n",
    "            pool = self.ex_crossover(population)\n",
    "            if self.mutation_method == 'random':\n",
    "                pool = self.mutate_random(pool)\n",
    "            elif self.mutation_method == 'dqn':\n",
    "                pool1 = self.mutate_random(pool)\n",
    "                pool1 = sorted(pool1, key = lambda x: self.reward(x), reverse=True)\n",
    "                pool1 = pool1[:int(len(pool1) * self.config['random_ratio'])]\n",
    "                pool2 = self.mutate_dqn(pool, self.mutation_method)\n",
    "                pool2 = sorted(pool2, key = lambda x: self.reward(x), reverse=True)\n",
    "                pool2 = pool2[int(len(pool2) * self.config['random_ratio']):]\n",
    "                pool = pool1 + pool2\n",
    "            elif self.mutation_method == 'dueling_dqn':\n",
    "                pool1 = self.mutate_random(pool)\n",
    "                pool1 = sorted(pool1, key = lambda x: self.reward(x), reverse=True)\n",
    "                pool1 = pool1[:int(len(pool1) * self.config['random_ratio'])]\n",
    "                pool2 = self.mutate_dqn(pool, self.mutation_method)\n",
    "                pool2 = sorted(pool2, key = lambda x: self.reward(x), reverse=True)\n",
    "                pool2 = pool2[int(len(pool2) * self.config['random_ratio']):]\n",
    "            population = self.evolution_strategy(pool + population)\n",
    "            \n",
    "            if fp is not None:\n",
    "                reward = max(map(lambda x: self.reward(x), population))\n",
    "                result = sorted(population, key = lambda x: self.reward(x), reverse=True)[0]\n",
    "                out_list = [str(i_iter + 1), '{:.2f}'.format(reward), '_'.join(map(lambda x: str(x), result))]\n",
    "                fp.write(','.join(out_list) + '\\n')\n",
    "            \n",
    "            # check convergence\n",
    "            if check_convergence(population, convergence_threshold):\n",
    "                if verbose:\n",
    "                    print('converged in iter {}'.format(i_iter+1))\n",
    "                break\n",
    "                \n",
    "            if verbose:\n",
    "                if (i_iter + 1) % 40 == 0:\n",
    "                    print('iter {}: reward = {:.2f}'.format(i_iter+1, max(map(lambda x: self.reward(x), population))))\n",
    "                    candidates = copy.deepcopy(population)\n",
    "                    candidates = sorted(candidates, key = lambda x: self.reward(x), reverse=True)\n",
    "                    print(candidates[0])\n",
    "        population = sorted(population, key = lambda x: self.reward(x), reverse=True)\n",
    "        return population[0], self.reward(population[0]), i_iter+1"
   ]
  },
  {
   "cell_type": "code",
   "execution_count": 14,
   "metadata": {},
   "outputs": [],
   "source": [
    "config = {\n",
    "    'example_file': './examples/WTA1',\n",
    "    'population_size': 50,\n",
    "    'n_offsprings': 50,\n",
    "    'm_c': 1,\n",
    "    'm_m': 1, # for fair comparison set m_m to 1\n",
    "    'random_ratio': 0.5\n",
    "}"
   ]
  },
  {
   "cell_type": "code",
   "execution_count": 19,
   "metadata": {},
   "outputs": [
    {
     "name": "stdout",
     "output_type": "stream",
     "text": [
      "converged in iter 31\n"
     ]
    },
    {
     "data": {
      "text/plain": [
       "([0, 3, 2, 1, 4], 327.082, 31)"
      ]
     },
     "execution_count": 19,
     "metadata": {},
     "output_type": "execute_result"
    }
   ],
   "source": [
    "wta_1d = WTA_1D_General_GA(config, 1, mutation_method='dqn')\n",
    "\n",
    "wta_1d.run(800, convergence_threshold=0.8, verbose=True)"
   ]
  },
  {
   "cell_type": "markdown",
   "metadata": {},
   "source": [
    "# Experiments"
   ]
  },
  {
   "cell_type": "code",
   "execution_count": 25,
   "metadata": {},
   "outputs": [],
   "source": [
    "N_WEAPONS = 20\n",
    "max_iter = 5000\n",
    "N_WTA = 3\n",
    "M_POPULATION = 15\n",
    "M_OFFSPRINGS = 10\n",
    "N_EXPERIMENTS = 8\n",
    "convergence_threshold = 0.8"
   ]
  },
  {
   "cell_type": "markdown",
   "metadata": {},
   "source": [
    "## Random Ratio 0.5"
   ]
  },
  {
   "cell_type": "code",
   "execution_count": 26,
   "metadata": {},
   "outputs": [],
   "source": [
    "random_ratio = 0.5\n",
    "\n",
    "config = {\n",
    "    'example_file': './examples/WTA{}'.format(N_WTA),\n",
    "    'population_size': N_WEAPONS * M_POPULATION,\n",
    "    'n_offsprings': N_WEAPONS * M_OFFSPRINGS,\n",
    "    'm_c': 1,\n",
    "    'm_m': 1, # for fair comparison set m_m to 1\n",
    "    'random_ratio': random_ratio\n",
    "}"
   ]
  },
  {
   "cell_type": "code",
   "execution_count": 35,
   "metadata": {},
   "outputs": [
    {
     "name": "stdout",
     "output_type": "stream",
     "text": [
      "result: [18, 8, 19, 9, 3, 2, 5, 1, 10, 6, 4, 12, 13, 0, 11, 17, 14, 7, 15, 16], reward: 949.875, convergence: 5000\n",
      "result: [2, 14, 11, 9, 3, 18, 5, 10, 7, 12, 17, 19, 13, 4, 1, 6, 8, 0, 15, 16], reward: 955.599, convergence: 5000\n",
      "result: [2, 1, 17, 8, 6, 3, 5, 13, 10, 19, 4, 18, 9, 12, 11, 7, 14, 0, 15, 16], reward: 944.201, convergence: 5000\n",
      "result: [11, 1, 2, 16, 17, 18, 5, 10, 7, 12, 3, 19, 13, 0, 4, 6, 8, 9, 15, 14], reward: 947.466, convergence: 5000\n",
      "result: [11, 1, 14, 9, 18, 2, 5, 10, 7, 6, 17, 19, 13, 12, 4, 3, 8, 0, 15, 16], reward: 950.394, convergence: 5000\n",
      "result: [11, 6, 2, 9, 15, 19, 5, 1, 10, 0, 17, 12, 13, 4, 3, 7, 8, 14, 16, 18], reward: 940.741, convergence: 5000\n",
      "result: [2, 1, 11, 9, 3, 10, 5, 13, 7, 12, 17, 19, 14, 18, 4, 6, 8, 0, 15, 16], reward: 954.173, convergence: 5000\n",
      "result: [11, 1, 17, 3, 15, 2, 5, 10, 7, 19, 18, 14, 13, 9, 4, 6, 8, 0, 16, 12], reward: 946.590, convergence: 5000\n"
     ]
    }
   ],
   "source": [
    "fpout = open('./experiments/mutation_mix/WTA{}_random-ratio_{}_result.csv'.format(N_WTA, random_ratio), 'w')\n",
    "wr = csv.writer(fpout, delimiter=',')\n",
    "wr.writerow(['result', 'reward', 'convergence_iter'])\n",
    "\n",
    "for i_exp in range(N_EXPERIMENTS):\n",
    "    fpout_iter = open('./experiments/plot/WTA{}_random-ratio_{}_experiment{}.csv'.format(N_WTA, random_ratio, i_exp), 'w')\n",
    "    fpout_iter.write('i_iter,reward,result\\n')\n",
    "    \n",
    "    wta_1d = WTA_1D_General_GA(config, N_WTA, mutation_method='random')\n",
    "    result, reward, convergence_iter = wta_1d.run(max_iter, convergence_threshold=convergence_threshold, verbose=False, fp=fpout_iter)\n",
    "    \n",
    "    print('result: {}, reward: {:.3f}, convergence: {}'.format(result, reward, convergence_iter))\n",
    "    wr.writerow(['_'.join(map(lambda x: str(x), result)), '{:.3f}'.format(reward), convergence_iter])\n",
    "    \n",
    "    fpout_iter.close()\n",
    "        \n",
    "fpout.close()"
   ]
  },
  {
   "cell_type": "code",
   "execution_count": 27,
   "metadata": {},
   "outputs": [
    {
     "name": "stdout",
     "output_type": "stream",
     "text": [
      "result: [11, 1, 2, 9, 3, 18, 5, 13, 10, 0, 7, 4, 14, 12, 6, 17, 8, 19, 15, 16], reward: 947.813, convergence: 5000\n",
      "result: [19, 1, 2, 9, 3, 18, 5, 13, 10, 6, 16, 4, 14, 12, 11, 17, 8, 7, 15, 0], reward: 949.325, convergence: 5000\n",
      "result: [11, 1, 2, 8, 3, 18, 5, 13, 7, 12, 10, 4, 14, 15, 6, 17, 9, 0, 19, 16], reward: 940.685, convergence: 5000\n",
      "result: [19, 1, 2, 9, 3, 18, 5, 13, 10, 6, 0, 4, 14, 12, 11, 17, 8, 7, 15, 16], reward: 950.717, convergence: 5000\n",
      "result: [19, 6, 2, 9, 1, 18, 5, 13, 10, 12, 3, 4, 14, 0, 11, 17, 8, 7, 15, 16], reward: 955.486, convergence: 5000\n",
      "result: [19, 6, 2, 9, 3, 18, 5, 1, 10, 0, 7, 4, 13, 12, 11, 17, 8, 14, 15, 16], reward: 949.172, convergence: 5000\n",
      "result: [11, 1, 2, 9, 0, 18, 5, 13, 10, 6, 3, 4, 19, 12, 14, 17, 8, 7, 15, 16], reward: 946.121, convergence: 5000\n",
      "result: [19, 6, 2, 9, 3, 18, 5, 13, 10, 12, 15, 4, 14, 0, 11, 17, 8, 7, 16, 1], reward: 950.907, convergence: 5000\n"
     ]
    }
   ],
   "source": [
    "fpout = open('./experiments/mutation_mix/WTA{}_dqn_random-ratio_{}_result.csv'.format(N_WTA, random_ratio), 'w')\n",
    "wr = csv.writer(fpout, delimiter=',')\n",
    "wr.writerow(['result', 'reward', 'convergence_iter'])\n",
    "\n",
    "for i_exp in range(N_EXPERIMENTS):\n",
    "    fpout_iter = open('./experiments/plot/WTA{}_dqn_random-ratio_{}_experiment{}.csv'.format(N_WTA, random_ratio, i_exp), 'w')\n",
    "    fpout_iter.write('i_iter,reward,result\\n')\n",
    "    \n",
    "    wta_1d = WTA_1D_General_GA(config, N_WTA, mutation_method='dqn')\n",
    "    result, reward, convergence_iter = wta_1d.run(max_iter, convergence_threshold=convergence_threshold, verbose=False, fp=fpout_iter)\n",
    "    \n",
    "    print('result: {}, reward: {:.3f}, convergence: {}'.format(result, reward, convergence_iter))\n",
    "    wr.writerow(['_'.join(map(lambda x: str(x), result)), '{:.3f}'.format(reward), convergence_iter])\n",
    "    \n",
    "    fpout_iter.close()\n",
    "        \n",
    "fpout.close()"
   ]
  },
  {
   "cell_type": "code",
   "execution_count": 28,
   "metadata": {},
   "outputs": [
    {
     "name": "stdout",
     "output_type": "stream",
     "text": [
      "result: [18, 1, 5, 9, 3, 2, 4, 13, 10, 12, 17, 19, 14, 0, 11, 6, 8, 7, 15, 16], reward: 955.255, convergence: 5000\n",
      "result: [19, 1, 5, 9, 18, 2, 3, 13, 10, 0, 17, 12, 14, 4, 11, 6, 8, 7, 15, 16], reward: 953.059, convergence: 5000\n",
      "result: [19, 1, 5, 9, 18, 2, 3, 13, 10, 0, 17, 12, 14, 4, 11, 6, 8, 7, 15, 16], reward: 953.059, convergence: 5000\n",
      "result: [18, 1, 5, 9, 3, 2, 4, 13, 10, 12, 17, 19, 14, 0, 11, 6, 8, 7, 15, 16], reward: 955.255, convergence: 5000\n",
      "result: [19, 0, 5, 11, 4, 2, 13, 1, 10, 15, 3, 12, 14, 8, 17, 6, 18, 9, 7, 16], reward: 876.899, convergence: 47\n",
      "result: [19, 1, 5, 9, 18, 2, 3, 13, 10, 0, 17, 12, 14, 4, 11, 6, 8, 7, 15, 16], reward: 953.059, convergence: 5000\n",
      "result: [19, 1, 5, 9, 18, 2, 3, 13, 10, 0, 17, 12, 14, 4, 11, 6, 8, 7, 15, 16], reward: 953.059, convergence: 4272\n",
      "result: [19, 1, 5, 9, 3, 18, 2, 13, 10, 0, 17, 12, 14, 4, 11, 6, 8, 7, 15, 16], reward: 954.332, convergence: 4932\n"
     ]
    }
   ],
   "source": [
    "fpout = open('./experiments/mutation_mix/WTA{}_dueling-dqn_random-ratio_{}_result.csv'.format(N_WTA, random_ratio), 'w')\n",
    "wr = csv.writer(fpout, delimiter=',')\n",
    "wr.writerow(['result', 'reward', 'convergence_iter'])\n",
    "\n",
    "for i_exp in range(N_EXPERIMENTS):\n",
    "    fpout_iter = open('./experiments/plot/WTA{}_dueling-dqn_random-ratio_{}_experiment{}.csv'.format(N_WTA, random_ratio, i_exp), 'w')\n",
    "    fpout_iter.write('i_iter,reward,result\\n')\n",
    "    \n",
    "    wta_1d = WTA_1D_General_GA(config, N_WTA, mutation_method='dueling_dqn')\n",
    "    result, reward, convergence_iter = wta_1d.run(max_iter, convergence_threshold=convergence_threshold, verbose=False, fp=fpout_iter)\n",
    "    \n",
    "    print('result: {}, reward: {:.3f}, convergence: {}'.format(result, reward, convergence_iter))\n",
    "    wr.writerow(['_'.join(map(lambda x: str(x), result)), '{:.3f}'.format(reward), convergence_iter])\n",
    "    \n",
    "    fpout_iter.close()\n",
    "        \n",
    "fpout.close()"
   ]
  },
  {
   "cell_type": "markdown",
   "metadata": {},
   "source": [
    "## random ratio 0.3"
   ]
  },
  {
   "cell_type": "code",
   "execution_count": 29,
   "metadata": {},
   "outputs": [],
   "source": [
    "random_ratio = 0.3\n",
    "\n",
    "config = {\n",
    "    'example_file': './examples/WTA{}'.format(N_WTA),\n",
    "    'population_size': N_WEAPONS * M_POPULATION,\n",
    "    'n_offsprings': N_WEAPONS * M_OFFSPRINGS,\n",
    "    'm_c': 1,\n",
    "    'm_m': 1, # for fair comparison set m_m to 1\n",
    "    'random_ratio': random_ratio\n",
    "}"
   ]
  },
  {
   "cell_type": "code",
   "execution_count": 30,
   "metadata": {},
   "outputs": [
    {
     "name": "stdout",
     "output_type": "stream",
     "text": [
      "result: [19, 8, 2, 9, 3, 18, 5, 1, 13, 6, 10, 4, 0, 12, 11, 17, 14, 7, 15, 16], reward: 939.498, convergence: 5000\n",
      "result: [19, 1, 2, 6, 3, 18, 5, 10, 7, 12, 0, 4, 13, 9, 11, 17, 8, 14, 15, 16], reward: 947.097, convergence: 5000\n",
      "result: [2, 1, 11, 8, 18, 3, 5, 17, 7, 12, 10, 4, 13, 0, 6, 15, 14, 9, 19, 16], reward: 938.924, convergence: 5000\n",
      "result: [19, 6, 2, 9, 15, 18, 5, 13, 10, 12, 3, 4, 14, 0, 11, 17, 8, 7, 16, 1], reward: 953.153, convergence: 5000\n",
      "result: [11, 6, 2, 9, 3, 18, 5, 13, 10, 12, 14, 4, 19, 0, 1, 17, 8, 7, 15, 16], reward: 946.085, convergence: 5000\n",
      "result: [19, 1, 2, 8, 16, 18, 5, 10, 9, 6, 3, 4, 13, 0, 11, 17, 14, 7, 15, 12], reward: 947.874, convergence: 5000\n",
      "result: [19, 6, 2, 9, 3, 18, 5, 13, 10, 12, 16, 4, 14, 0, 11, 17, 8, 7, 15, 1], reward: 951.179, convergence: 5000\n",
      "result: [11, 1, 9, 18, 3, 15, 5, 17, 7, 12, 10, 19, 13, 4, 6, 14, 8, 0, 16, 2], reward: 942.089, convergence: 5000\n"
     ]
    }
   ],
   "source": [
    "fpout = open('./experiments/mutation_mix/WTA{}_dqn_random-ratio_{}_result.csv'.format(N_WTA, random_ratio), 'w')\n",
    "wr = csv.writer(fpout, delimiter=',')\n",
    "wr.writerow(['result', 'reward', 'convergence_iter'])\n",
    "\n",
    "for i_exp in range(N_EXPERIMENTS):\n",
    "    fpout_iter = open('./experiments/plot/WTA{}_dqn_random-ratio_{}_experiment{}.csv'.format(N_WTA, random_ratio, i_exp), 'w')\n",
    "    fpout_iter.write('i_iter,reward,result\\n')\n",
    "    \n",
    "    wta_1d = WTA_1D_General_GA(config, N_WTA, mutation_method='dqn')\n",
    "    result, reward, convergence_iter = wta_1d.run(max_iter, convergence_threshold=convergence_threshold, verbose=False, fp=fpout_iter)\n",
    "    \n",
    "    print('result: {}, reward: {:.3f}, convergence: {}'.format(result, reward, convergence_iter))\n",
    "    wr.writerow(['_'.join(map(lambda x: str(x), result)), '{:.3f}'.format(reward), convergence_iter])\n",
    "    \n",
    "    fpout_iter.close()\n",
    "        \n",
    "fpout.close()"
   ]
  },
  {
   "cell_type": "code",
   "execution_count": 31,
   "metadata": {},
   "outputs": [
    {
     "name": "stdout",
     "output_type": "stream",
     "text": [
      "result: [19, 1, 5, 9, 3, 18, 2, 13, 10, 6, 7, 12, 14, 4, 11, 17, 8, 0, 15, 16], reward: 953.332, convergence: 5000\n",
      "result: [19, 0, 5, 11, 1, 2, 17, 8, 10, 13, 3, 12, 14, 9, 17, 6, 4, 7, 18, 16], reward: 892.446, convergence: 66\n",
      "result: [19, 1, 5, 9, 18, 2, 3, 13, 10, 0, 17, 12, 14, 4, 11, 6, 8, 7, 15, 16], reward: 953.059, convergence: 5000\n",
      "result: [19, 1, 5, 9, 18, 2, 3, 13, 10, 0, 17, 12, 14, 4, 11, 6, 8, 7, 15, 16], reward: 953.059, convergence: 5000\n",
      "result: [19, 7, 5, 8, 3, 2, 17, 13, 10, 12, 3, 8, 14, 9, 4, 0, 11, 18, 6, 16], reward: 885.521, convergence: 54\n",
      "result: [19, 1, 5, 9, 18, 2, 3, 13, 10, 0, 17, 12, 14, 4, 11, 6, 8, 7, 15, 16], reward: 953.059, convergence: 5000\n",
      "result: [19, 7, 5, 9, 1, 2, 3, 17, 10, 6, 18, 12, 13, 4, 11, 14, 8, 0, 15, 16], reward: 951.714, convergence: 4662\n",
      "result: [19, 1, 5, 9, 18, 2, 3, 13, 10, 0, 17, 12, 14, 4, 11, 6, 8, 7, 15, 16], reward: 953.059, convergence: 5000\n"
     ]
    }
   ],
   "source": [
    "fpout = open('./experiments/mutation_mix/WTA{}_dueling-dqn_random-ratio_{}_result.csv'.format(N_WTA, random_ratio), 'w')\n",
    "wr = csv.writer(fpout, delimiter=',')\n",
    "wr.writerow(['result', 'reward', 'convergence_iter'])\n",
    "\n",
    "for i_exp in range(N_EXPERIMENTS):\n",
    "    fpout_iter = open('./experiments/plot/WTA{}_dueling-dqn_random-ratio_{}_experiment{}.csv'.format(N_WTA, random_ratio, i_exp), 'w')\n",
    "    fpout_iter.write('i_iter,reward,result\\n')\n",
    "    \n",
    "    wta_1d = WTA_1D_General_GA(config, N_WTA, mutation_method='dueling_dqn')\n",
    "    result, reward, convergence_iter = wta_1d.run(max_iter, convergence_threshold=convergence_threshold, verbose=False, fp=fpout_iter)\n",
    "    \n",
    "    print('result: {}, reward: {:.3f}, convergence: {}'.format(result, reward, convergence_iter))\n",
    "    wr.writerow(['_'.join(map(lambda x: str(x), result)), '{:.3f}'.format(reward), convergence_iter])\n",
    "    \n",
    "    fpout_iter.close()\n",
    "        \n",
    "fpout.close()"
   ]
  },
  {
   "cell_type": "markdown",
   "metadata": {},
   "source": [
    "## Random Ratio 0.1"
   ]
  },
  {
   "cell_type": "code",
   "execution_count": 32,
   "metadata": {},
   "outputs": [],
   "source": [
    "random_ratio = 0.1\n",
    "\n",
    "config = {\n",
    "    'example_file': './examples/WTA{}'.format(N_WTA),\n",
    "    'population_size': N_WEAPONS * M_POPULATION,\n",
    "    'n_offsprings': N_WEAPONS * M_OFFSPRINGS,\n",
    "    'm_c': 1,\n",
    "    'm_m': 1, # for fair comparison set m_m to 1\n",
    "    'random_ratio': random_ratio\n",
    "}"
   ]
  },
  {
   "cell_type": "code",
   "execution_count": 33,
   "metadata": {},
   "outputs": [
    {
     "name": "stdout",
     "output_type": "stream",
     "text": [
      "result: [15, 6, 2, 9, 3, 10, 5, 1, 14, 19, 18, 4, 13, 0, 11, 17, 8, 7, 16, 12], reward: 942.414, convergence: 5000\n",
      "result: [19, 6, 2, 9, 3, 18, 5, 1, 10, 12, 16, 4, 13, 0, 11, 17, 8, 7, 15, 14], reward: 948.873, convergence: 5000\n",
      "result: [19, 6, 9, 18, 3, 2, 5, 1, 7, 12, 10, 4, 13, 15, 11, 17, 8, 14, 16, 0], reward: 938.908, convergence: 5000\n",
      "result: [11, 1, 2, 9, 3, 18, 5, 13, 7, 12, 10, 4, 19, 0, 6, 17, 8, 14, 15, 16], reward: 945.793, convergence: 5000\n",
      "result: [19, 14, 2, 9, 3, 18, 5, 6, 10, 12, 16, 4, 13, 0, 11, 17, 8, 7, 15, 1], reward: 946.122, convergence: 5000\n",
      "result: [19, 6, 2, 9, 16, 18, 5, 13, 10, 12, 3, 4, 14, 0, 11, 17, 8, 7, 15, 1], reward: 952.806, convergence: 5000\n",
      "result: [11, 1, 2, 9, 3, 18, 5, 13, 7, 12, 10, 4, 19, 0, 6, 17, 8, 14, 15, 16], reward: 945.793, convergence: 5000\n",
      "result: [11, 1, 2, 9, 3, 18, 5, 13, 10, 0, 16, 4, 14, 15, 6, 17, 8, 7, 19, 12], reward: 943.344, convergence: 5000\n"
     ]
    }
   ],
   "source": [
    "fpout = open('./experiments/mutation_mix/WTA{}_dqn_random-ratio_{}_result.csv'.format(N_WTA, random_ratio), 'w')\n",
    "wr = csv.writer(fpout, delimiter=',')\n",
    "wr.writerow(['result', 'reward', 'convergence_iter'])\n",
    "\n",
    "for i_exp in range(N_EXPERIMENTS):\n",
    "    fpout_iter = open('./experiments/plot/WTA{}_dqn_random-ratio_{}_experiment{}.csv'.format(N_WTA, random_ratio, i_exp), 'w')\n",
    "    fpout_iter.write('i_iter,reward,result\\n')\n",
    "    \n",
    "    wta_1d = WTA_1D_General_GA(config, N_WTA, mutation_method='dqn')\n",
    "    result, reward, convergence_iter = wta_1d.run(max_iter, convergence_threshold=convergence_threshold, verbose=False, fp=fpout_iter)\n",
    "    \n",
    "    print('result: {}, reward: {:.3f}, convergence: {}'.format(result, reward, convergence_iter))\n",
    "    wr.writerow(['_'.join(map(lambda x: str(x), result)), '{:.3f}'.format(reward), convergence_iter])\n",
    "    \n",
    "    fpout_iter.close()\n",
    "        \n",
    "fpout.close()"
   ]
  },
  {
   "cell_type": "code",
   "execution_count": 34,
   "metadata": {},
   "outputs": [
    {
     "name": "stdout",
     "output_type": "stream",
     "text": [
      "result: [19, 1, 5, 9, 18, 2, 3, 13, 10, 0, 17, 12, 14, 4, 11, 6, 8, 7, 15, 16], reward: 953.059, convergence: 5000\n",
      "result: [19, 7, 5, 9, 1, 2, 3, 13, 10, 6, 18, 12, 14, 4, 11, 17, 8, 0, 15, 16], reward: 952.628, convergence: 5000\n",
      "result: [19, 1, 5, 9, 18, 2, 3, 13, 10, 0, 17, 12, 14, 4, 11, 6, 8, 7, 15, 16], reward: 953.059, convergence: 5000\n",
      "result: [19, 0, 5, 11, 11, 2, 13, 1, 10, 6, 3, 12, 14, 9, 17, 15, 8, 7, 18, 16], reward: 891.177, convergence: 93\n",
      "result: [19, 1, 5, 9, 17, 2, 3, 13, 10, 0, 18, 12, 14, 4, 11, 6, 8, 7, 15, 16], reward: 952.813, convergence: 4765\n",
      "result: [19, 1, 5, 9, 18, 2, 3, 13, 10, 0, 17, 12, 14, 4, 11, 6, 8, 7, 15, 16], reward: 953.059, convergence: 5000\n",
      "result: [19, 0, 5, 0, 6, 2, 4, 13, 10, 1, 3, 12, 14, 9, 11, 15, 8, 7, 17, 16], reward: 897.685, convergence: 70\n",
      "result: [19, 1, 5, 9, 18, 2, 3, 13, 10, 0, 17, 12, 14, 4, 11, 6, 8, 7, 15, 16], reward: 953.059, convergence: 5000\n"
     ]
    }
   ],
   "source": [
    "fpout = open('./experiments/mutation_mix/WTA{}_dueling-dqn_random-ratio_{}_result.csv'.format(N_WTA, random_ratio), 'w')\n",
    "wr = csv.writer(fpout, delimiter=',')\n",
    "wr.writerow(['result', 'reward', 'convergence_iter'])\n",
    "\n",
    "for i_exp in range(N_EXPERIMENTS):\n",
    "    fpout_iter = open('./experiments/plot/WTA{}_dueling-dqn_random-ratio_{}_experiment{}.csv'.format(N_WTA, random_ratio, i_exp), 'w')\n",
    "    fpout_iter.write('i_iter,reward,result\\n')\n",
    "    \n",
    "    wta_1d = WTA_1D_General_GA(config, N_WTA, mutation_method='dueling_dqn')\n",
    "    result, reward, convergence_iter = wta_1d.run(max_iter, convergence_threshold=convergence_threshold, verbose=False, fp=fpout_iter)\n",
    "    \n",
    "    print('result: {}, reward: {:.3f}, convergence: {}'.format(result, reward, convergence_iter))\n",
    "    wr.writerow(['_'.join(map(lambda x: str(x), result)), '{:.3f}'.format(reward), convergence_iter])\n",
    "    \n",
    "    fpout_iter.close()\n",
    "        \n",
    "fpout.close()"
   ]
  },
  {
   "cell_type": "markdown",
   "metadata": {},
   "source": [
    "## Random Ratio 0.7"
   ]
  },
  {
   "cell_type": "code",
   "execution_count": 36,
   "metadata": {},
   "outputs": [],
   "source": [
    "random_ratio = 0.7\n",
    "\n",
    "config = {\n",
    "    'example_file': './examples/WTA{}'.format(N_WTA),\n",
    "    'population_size': N_WEAPONS * M_POPULATION,\n",
    "    'n_offsprings': N_WEAPONS * M_OFFSPRINGS,\n",
    "    'm_c': 1,\n",
    "    'm_m': 1, # for fair comparison set m_m to 1\n",
    "    'random_ratio': random_ratio\n",
    "}"
   ]
  },
  {
   "cell_type": "code",
   "execution_count": 37,
   "metadata": {},
   "outputs": [
    {
     "name": "stdout",
     "output_type": "stream",
     "text": [
      "result: [6, 1, 2, 9, 3, 18, 5, 13, 10, 19, 16, 4, 14, 0, 11, 17, 8, 7, 15, 12], reward: 948.526, convergence: 5000\n",
      "result: [11, 1, 2, 8, 3, 10, 5, 18, 15, 12, 0, 4, 13, 9, 6, 17, 14, 7, 19, 16], reward: 938.666, convergence: 5000\n",
      "result: [19, 1, 2, 6, 16, 18, 5, 13, 10, 12, 3, 4, 14, 9, 11, 17, 8, 7, 15, 0], reward: 947.459, convergence: 5000\n",
      "result: [19, 6, 2, 9, 3, 18, 5, 1, 10, 12, 7, 4, 13, 0, 11, 17, 8, 14, 15, 16], reward: 952.419, convergence: 5000\n",
      "result: [19, 6, 2, 9, 3, 18, 5, 1, 10, 12, 14, 4, 13, 0, 11, 17, 8, 7, 15, 16], reward: 950.499, convergence: 5000\n",
      "result: [19, 6, 2, 9, 1, 18, 5, 13, 10, 0, 3, 4, 14, 12, 11, 17, 8, 7, 15, 16], reward: 952.239, convergence: 5000\n",
      "result: [11, 1, 2, 9, 15, 18, 5, 13, 3, 19, 10, 4, 14, 12, 6, 17, 8, 7, 16, 0], reward: 938.917, convergence: 5000\n",
      "result: [11, 6, 2, 9, 15, 18, 5, 10, 7, 12, 3, 4, 13, 0, 1, 17, 8, 14, 19, 16], reward: 951.373, convergence: 5000\n"
     ]
    }
   ],
   "source": [
    "fpout = open('./experiments/mutation_mix/WTA{}_dqn_random-ratio_{}_result.csv'.format(N_WTA, random_ratio), 'w')\n",
    "wr = csv.writer(fpout, delimiter=',')\n",
    "wr.writerow(['result', 'reward', 'convergence_iter'])\n",
    "\n",
    "for i_exp in range(N_EXPERIMENTS):\n",
    "    fpout_iter = open('./experiments/plot/WTA{}_dqn_random-ratio_{}_experiment{}.csv'.format(N_WTA, random_ratio, i_exp), 'w')\n",
    "    fpout_iter.write('i_iter,reward,result\\n')\n",
    "    \n",
    "    wta_1d = WTA_1D_General_GA(config, N_WTA, mutation_method='dqn')\n",
    "    result, reward, convergence_iter = wta_1d.run(max_iter, convergence_threshold=convergence_threshold, verbose=False, fp=fpout_iter)\n",
    "    \n",
    "    print('result: {}, reward: {:.3f}, convergence: {}'.format(result, reward, convergence_iter))\n",
    "    wr.writerow(['_'.join(map(lambda x: str(x), result)), '{:.3f}'.format(reward), convergence_iter])\n",
    "    \n",
    "    fpout_iter.close()\n",
    "        \n",
    "fpout.close()"
   ]
  },
  {
   "cell_type": "code",
   "execution_count": 38,
   "metadata": {},
   "outputs": [
    {
     "name": "stdout",
     "output_type": "stream",
     "text": [
      "result: [19, 1, 5, 9, 15, 2, 3, 17, 10, 0, 18, 12, 13, 4, 11, 6, 8, 7, 16, 14], reward: 950.286, convergence: 5000\n",
      "result: [19, 1, 5, 9, 18, 2, 3, 13, 10, 0, 17, 12, 14, 4, 11, 6, 8, 7, 15, 16], reward: 953.059, convergence: 4709\n",
      "result: [19, 1, 5, 9, 18, 2, 3, 13, 10, 6, 4, 12, 14, 0, 11, 17, 8, 7, 15, 16], reward: 952.873, convergence: 5000\n",
      "result: [19, 1, 5, 9, 18, 2, 3, 13, 10, 6, 4, 12, 14, 0, 11, 17, 8, 7, 15, 16], reward: 952.873, convergence: 4488\n",
      "result: [19, 1, 5, 9, 18, 2, 3, 13, 10, 6, 4, 12, 14, 0, 11, 17, 8, 7, 15, 16], reward: 952.873, convergence: 5000\n",
      "result: [2, 1, 5, 9, 4, 18, 3, 13, 10, 12, 17, 19, 14, 0, 11, 6, 8, 7, 15, 16], reward: 955.904, convergence: 5000\n",
      "result: [19, 1, 5, 9, 17, 2, 3, 13, 10, 0, 18, 12, 14, 4, 11, 6, 8, 7, 15, 16], reward: 952.813, convergence: 5000\n",
      "result: [19, 1, 5, 9, 18, 2, 3, 13, 10, 6, 4, 12, 14, 0, 11, 17, 8, 7, 15, 16], reward: 952.873, convergence: 5000\n"
     ]
    }
   ],
   "source": [
    "fpout = open('./experiments/mutation_mix/WTA{}_dueling-dqn_random-ratio_{}_result.csv'.format(N_WTA, random_ratio), 'w')\n",
    "wr = csv.writer(fpout, delimiter=',')\n",
    "wr.writerow(['result', 'reward', 'convergence_iter'])\n",
    "\n",
    "for i_exp in range(N_EXPERIMENTS):\n",
    "    fpout_iter = open('./experiments/plot/WTA{}_dueling-dqn_random-ratio_{}_experiment{}.csv'.format(N_WTA, random_ratio, i_exp), 'w')\n",
    "    fpout_iter.write('i_iter,reward,result\\n')\n",
    "    \n",
    "    wta_1d = WTA_1D_General_GA(config, N_WTA, mutation_method='dueling_dqn')\n",
    "    result, reward, convergence_iter = wta_1d.run(max_iter, convergence_threshold=convergence_threshold, verbose=False, fp=fpout_iter)\n",
    "    \n",
    "    print('result: {}, reward: {:.3f}, convergence: {}'.format(result, reward, convergence_iter))\n",
    "    wr.writerow(['_'.join(map(lambda x: str(x), result)), '{:.3f}'.format(reward), convergence_iter])\n",
    "    \n",
    "    fpout_iter.close()\n",
    "        \n",
    "fpout.close()"
   ]
  },
  {
   "cell_type": "markdown",
   "metadata": {},
   "source": [
    "# Experiment Results"
   ]
  },
  {
   "cell_type": "code",
   "execution_count": 51,
   "metadata": {},
   "outputs": [],
   "source": [
    "def plot_reward(filename_list, dataname_list, title=''):\n",
    "    plt.figure(figsize=(20,10))\n",
    "    for idx, filename in enumerate(filename_list):\n",
    "        df = pd.read_csv(filename)\n",
    "        plt.plot(df.i_iter, df.reward, label=dataname_list[idx])\n",
    "    plt.legend()\n",
    "    plt.ylabel('reward')\n",
    "    plt.xlabel('iteration')\n",
    "    plt.title(title)\n",
    "    plt.show()"
   ]
  },
  {
   "cell_type": "markdown",
   "metadata": {},
   "source": [
    "## Random + DQN"
   ]
  },
  {
   "cell_type": "code",
   "execution_count": 76,
   "metadata": {},
   "outputs": [
    {
     "name": "stdout",
     "output_type": "stream",
     "text": [
      "DQN 100% - reward: 913.26, stdev: 28.217\n",
      "DQN 90% - reward: 945.51, stdev: 4.191\n",
      "DQN 70% - reward: 945.74, stdev: 5.207\n",
      "DQN 50% - reward: 948.78, stdev: 4.263\n",
      "DQN 30% - reward: 947.51, stdev: 5.649\n",
      "DQN 0% - reward: 924.47, stdev: 58.729\n"
     ]
    }
   ],
   "source": [
    "df_dqn_100 = pd.read_csv('./experiments/WTA3/dqn_mutation.csv')\n",
    "df_dqn_90 = pd.read_csv('./experiments/mutation_mix/WTA3_dqn_random-ratio_0.1_result.csv')\n",
    "df_dqn_70 = pd.read_csv('./experiments/mutation_mix/WTA3_dqn_random-ratio_0.3_result.csv')\n",
    "df_dqn_50 = pd.read_csv('./experiments/mutation_mix/WTA3_dqn_random-ratio_0.5_result.csv')\n",
    "df_dqn_30 = pd.read_csv('./experiments/mutation_mix/WTA3_dqn_random-ratio_0.7_result.csv')\n",
    "df_dqn_0 = pd.read_csv('./experiments/WTA3/random_mutation.csv')\n",
    "\n",
    "\n",
    "\n",
    "print('DQN 100% - reward: {:.2f}, stdev: {:.3f}'.format(df_dqn_100['reward'].mean(), df_dqn_100['reward'].std()))\n",
    "print('DQN 90% - reward: {:.2f}, stdev: {:.3f}'.format(df_dqn_90['reward'].mean(), df_dqn_90['reward'].std()))\n",
    "print('DQN 70% - reward: {:.2f}, stdev: {:.3f}'.format(df_dqn_70['reward'].mean(), df_dqn_70['reward'].std()))\n",
    "print('DQN 50% - reward: {:.2f}, stdev: {:.3f}'.format(df_dqn_50['reward'].mean(), df_dqn_50['reward'].std()))\n",
    "print('DQN 30% - reward: {:.2f}, stdev: {:.3f}'.format(df_dqn_30['reward'].mean(), df_dqn_30['reward'].std()))\n",
    "print('DQN 0% - reward: {:.2f}, stdev: {:.3f}'.format(df_dqn_0['reward'].mean(), df_dqn_0['reward'].std()))"
   ]
  },
  {
   "cell_type": "code",
   "execution_count": 59,
   "metadata": {},
   "outputs": [
    {
     "data": {
      "image/png": "[encoded data removed]",
      "text/plain": [
       "<Figure size 1440x720 with 1 Axes>"
      ]
     },
     "metadata": {
      "needs_background": "light"
     },
     "output_type": "display_data"
    }
   ],
   "source": [
    "filename_list = ['./experiments/plot/WTA3_dqn_random-ratio_0.1_experiment0.csv',\n",
    "                 './experiments/plot/WTA3_dqn_random-ratio_0.3_experiment0.csv',\n",
    "                 './experiments/plot/WTA3_dqn_random-ratio_0.5_experiment0.csv',\n",
    "                 './experiments/plot/WTA3_dqn_random-ratio_0.7_experiment0.csv']\n",
    "dataname_list = ['dqn 0.9, random 0.1', 'dqn 0.7, random 0.3', 'dqn 0.5, random 0.5', 'dqn 0.3, random 0.7']\n",
    "title = 'reward for random + dqn mixture for mutation'\n",
    "plot_reward(filename_list, dataname_list, title)"
   ]
  },
  {
   "cell_type": "markdown",
   "metadata": {},
   "source": [
    "## Random + Dueling DQN"
   ]
  },
  {
   "cell_type": "code",
   "execution_count": 75,
   "metadata": {},
   "outputs": [
    {
     "name": "stdout",
     "output_type": "stream",
     "text": [
      "DQN 100% - reward: 907.78, stdev: 36.415\n",
      "DQN 90% - reward: 938.32, stdev: 27.143\n",
      "DQN 70% - reward: 936.91, stdev: 29.640\n",
      "DQN 50% - reward: 944.25, stdev: 27.230\n",
      "DQN 30% - reward: 952.94, stdev: 1.506\n",
      "DQN 0% - reward: 924.47, stdev: 58.729\n"
     ]
    }
   ],
   "source": [
    "df_d_dqn_100 = pd.read_csv('./experiments/WTA3/dueling_dqn_mutation.csv')\n",
    "df_d_dqn_90 = pd.read_csv('./experiments/mutation_mix/WTA3_dueling-dqn_random-ratio_0.1_result.csv')\n",
    "df_d_dqn_70 = pd.read_csv('./experiments/mutation_mix/WTA3_dueling-dqn_random-ratio_0.3_result.csv')\n",
    "df_d_dqn_50 = pd.read_csv('./experiments/mutation_mix/WTA3_dueling-dqn_random-ratio_0.5_result.csv')\n",
    "df_d_dqn_30 = pd.read_csv('./experiments/mutation_mix/WTA3_dueling-dqn_random-ratio_0.7_result.csv')\n",
    "df_d_dqn_0 = pd.read_csv('./experiments/WTA3/random_mutation.csv')\n",
    "\n",
    "\n",
    "\n",
    "print('Dueling DQN 100% - reward: {:.2f}, stdev: {:.3f}'.format(df_d_dqn_100['reward'].mean(), df_d_dqn_100['reward'].std()))\n",
    "print('Dueling DQN 90% - reward: {:.2f}, stdev: {:.3f}'.format(df_d_dqn_90['reward'].mean(), df_d_dqn_90['reward'].std()))\n",
    "print('Dueling DQN 70% - reward: {:.2f}, stdev: {:.3f}'.format(df_d_dqn_70['reward'].mean(), df_d_dqn_70['reward'].std()))\n",
    "print('Dueling DQN 50% - reward: {:.2f}, stdev: {:.3f}'.format(df_d_dqn_50['reward'].mean(), df_d_dqn_50['reward'].std()))\n",
    "print('Dueling DQN 30% - reward: {:.2f}, stdev: {:.3f}'.format(df_d_dqn_30['reward'].mean(), df_d_dqn_30['reward'].std()))\n",
    "print('Dueling DQN 0% - reward: {:.2f}, stdev: {:.3f}'.format(df_d_dqn_0['reward'].mean(), df_d_dqn_0['reward'].std()))"
   ]
  },
  {
   "cell_type": "code",
   "execution_count": 77,
   "metadata": {},
   "outputs": [
    {
     "data": {
      "image/png": "[encoded data removed]",
      "text/plain": [
       "<Figure size 1440x720 with 1 Axes>"
      ]
     },
     "metadata": {
      "needs_background": "light"
     },
     "output_type": "display_data"
    }
   ],
   "source": [
    "filename_list = ['./experiments/plot/WTA3_dueling-dqn_random-ratio_0.1_experiment0.csv',\n",
    "                 './experiments/plot/WTA3_dueling-dqn_random-ratio_0.3_experiment0.csv',\n",
    "                 './experiments/plot/WTA3_dueling-dqn_random-ratio_0.5_experiment0.csv',\n",
    "                 './experiments/plot/WTA3_dueling-dqn_random-ratio_0.7_experiment0.csv']\n",
    "dataname_list = ['dqn 0.9, random 0.1', 'dqn 0.7, random 0.3', 'dqn 0.5, random 0.5', 'dqn 0.3, random 0.7']\n",
    "title = 'reward for random + dqn mixture for mutation'\n",
    "plot_reward(filename_list, dataname_list, title)"
   ]
  },
  {
   "cell_type": "code",
   "execution_count": null,
   "metadata": {},
   "outputs": [],
   "source": []
  }
 ],
 "metadata": {
  "kernelspec": {
   "display_name": "Python 3",
   "language": "python",
   "name": "python3"
  },
  "language_info": {
   "codemirror_mode": {
    "name": "ipython",
    "version": 3
   },
   "file_extension": ".py",
   "mimetype": "text/x-python",
   "name": "python",
   "nbconvert_exporter": "python",
   "pygments_lexer": "ipython3",
   "version": "3.6.6"
  }
 },
 "nbformat": 4,
 "nbformat_minor": 2
}
